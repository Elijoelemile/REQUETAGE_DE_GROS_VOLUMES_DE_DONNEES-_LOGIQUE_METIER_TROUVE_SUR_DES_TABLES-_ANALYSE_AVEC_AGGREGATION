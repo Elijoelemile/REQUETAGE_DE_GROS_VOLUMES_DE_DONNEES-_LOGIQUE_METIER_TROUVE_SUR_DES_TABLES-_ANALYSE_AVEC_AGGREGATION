{
 "cells": [
  {
   "cell_type": "markdown",
   "id": "3d0cffbd-ae4c-449a-87e2-2996cc6e009a",
   "metadata": {},
   "source": [
    "# SUJET1: INTERROGER DE GROS VOLUMES DE DONNEES AVEC DES MOTEURS SQL ET ENSUITE LES MANIPULER"
   ]
  },
  {
   "cell_type": "markdown",
   "id": "a13c7d93-1540-40b7-aaa8-59a880eed590",
   "metadata": {},
   "source": [
    "## OBSERVATION DE NOS DATASETS VIA DES DATAFRAMES"
   ]
  },
  {
   "cell_type": "code",
   "execution_count": 5,
   "id": "9b831e45-a17b-484a-af37-eac6b8c9e330",
   "metadata": {},
   "outputs": [],
   "source": [
    "import chdb \n",
    "import pandas as pd\n",
    "import numpy as np\n",
    "import matplotlib.pyplot as plt\n",
    "import seaborn as sns\n",
    "import plotly.express as px"
   ]
  },
  {
   "cell_type": "markdown",
   "id": "909ca01f-0066-4bbd-b09f-ea7221757a30",
   "metadata": {},
   "source": [
    "#### DATAFRAME items_receipts"
   ]
  },
  {
   "cell_type": "code",
   "execution_count": 6,
   "id": "17be44ee-d96a-48da-9109-31d95b626ed6",
   "metadata": {},
   "outputs": [
    {
     "data": {
      "text/html": [
       "<div>\n",
       "<style scoped>\n",
       "    .dataframe tbody tr th:only-of-type {\n",
       "        vertical-align: middle;\n",
       "    }\n",
       "\n",
       "    .dataframe tbody tr th {\n",
       "        vertical-align: top;\n",
       "    }\n",
       "\n",
       "    .dataframe thead th {\n",
       "        text-align: right;\n",
       "    }\n",
       "</style>\n",
       "<table border=\"1\" class=\"dataframe\">\n",
       "  <thead>\n",
       "    <tr style=\"text-align: right;\">\n",
       "      <th></th>\n",
       "      <th>id</th>\n",
       "      <th>receiptId</th>\n",
       "      <th>itemId</th>\n",
       "      <th>createdAt</th>\n",
       "      <th>updatedAt</th>\n",
       "      <th>selection</th>\n",
       "      <th>quantity</th>\n",
       "      <th>unit</th>\n",
       "    </tr>\n",
       "  </thead>\n",
       "  <tbody>\n",
       "    <tr>\n",
       "      <th>0</th>\n",
       "      <td>9b71abf8-5a5b-4435-965b-db527a90895d</td>\n",
       "      <td>4cf842bc-28ee-420b-9d7c-be3f57046099</td>\n",
       "      <td>85e051d2-becd-48c0-83ee-7b85a8299c65</td>\n",
       "      <td>2025-01-08 18:58:31.532807+01:00</td>\n",
       "      <td>2025-01-08 18:58:31.532807+01:00</td>\n",
       "      <td>[]</td>\n",
       "      <td>1.0</td>\n",
       "      <td></td>\n",
       "    </tr>\n",
       "    <tr>\n",
       "      <th>1</th>\n",
       "      <td>ae81fa91-faab-4299-965b-dbd48af95a84</td>\n",
       "      <td>f7e841a5-0e92-4291-ab7e-d17fa38ed17b</td>\n",
       "      <td>f8ad7315-aaea-4dd8-ab10-5e7bd6775844</td>\n",
       "      <td>2025-01-08 09:40:55.317306+01:00</td>\n",
       "      <td>2025-01-08 09:40:55.317306+01:00</td>\n",
       "      <td>[]</td>\n",
       "      <td>1.0</td>\n",
       "      <td></td>\n",
       "    </tr>\n",
       "    <tr>\n",
       "      <th>2</th>\n",
       "      <td>0d0a0245-442b-40be-965b-dc313d64ecfc</td>\n",
       "      <td>277ab13e-d7fb-4949-b15e-a3912954583e</td>\n",
       "      <td>f01da06e-0ded-4e3a-be19-d9d1d448e2d2</td>\n",
       "      <td>2025-01-08 20:28:29.350306+01:00</td>\n",
       "      <td>2025-01-08 20:28:29.350306+01:00</td>\n",
       "      <td>[]</td>\n",
       "      <td>1.0</td>\n",
       "      <td></td>\n",
       "    </tr>\n",
       "    <tr>\n",
       "      <th>3</th>\n",
       "      <td>ec61fdd9-835c-4fe9-965b-dc388d2ac924</td>\n",
       "      <td>7aba0a49-4f06-4659-baa5-2995c7db8de0</td>\n",
       "      <td>241312f8-0471-4f51-9601-5f24a8434474</td>\n",
       "      <td>2025-01-08 16:34:38.738122+01:00</td>\n",
       "      <td>2025-01-08 16:34:38.738122+01:00</td>\n",
       "      <td>[]</td>\n",
       "      <td>1.0</td>\n",
       "      <td></td>\n",
       "    </tr>\n",
       "    <tr>\n",
       "      <th>4</th>\n",
       "      <td>77977ac9-0487-4c0d-965b-dca4699528c2</td>\n",
       "      <td>4e748183-cbe8-4b14-aa52-baaed9129fe3</td>\n",
       "      <td>056dcdac-9bd7-497d-b8cf-248f96a2ec8a</td>\n",
       "      <td>2025-01-09 06:15:23.808027+01:00</td>\n",
       "      <td>2025-01-09 06:15:23.808027+01:00</td>\n",
       "      <td>[]</td>\n",
       "      <td>2.0</td>\n",
       "      <td></td>\n",
       "    </tr>\n",
       "  </tbody>\n",
       "</table>\n",
       "</div>"
      ],
      "text/plain": [
       "                                     id                             receiptId  \\\n",
       "0  9b71abf8-5a5b-4435-965b-db527a90895d  4cf842bc-28ee-420b-9d7c-be3f57046099   \n",
       "1  ae81fa91-faab-4299-965b-dbd48af95a84  f7e841a5-0e92-4291-ab7e-d17fa38ed17b   \n",
       "2  0d0a0245-442b-40be-965b-dc313d64ecfc  277ab13e-d7fb-4949-b15e-a3912954583e   \n",
       "3  ec61fdd9-835c-4fe9-965b-dc388d2ac924  7aba0a49-4f06-4659-baa5-2995c7db8de0   \n",
       "4  77977ac9-0487-4c0d-965b-dca4699528c2  4e748183-cbe8-4b14-aa52-baaed9129fe3   \n",
       "\n",
       "                                 itemId                        createdAt  \\\n",
       "0  85e051d2-becd-48c0-83ee-7b85a8299c65 2025-01-08 18:58:31.532807+01:00   \n",
       "1  f8ad7315-aaea-4dd8-ab10-5e7bd6775844 2025-01-08 09:40:55.317306+01:00   \n",
       "2  f01da06e-0ded-4e3a-be19-d9d1d448e2d2 2025-01-08 20:28:29.350306+01:00   \n",
       "3  241312f8-0471-4f51-9601-5f24a8434474 2025-01-08 16:34:38.738122+01:00   \n",
       "4  056dcdac-9bd7-497d-b8cf-248f96a2ec8a 2025-01-09 06:15:23.808027+01:00   \n",
       "\n",
       "                         updatedAt selection  quantity unit  \n",
       "0 2025-01-08 18:58:31.532807+01:00        []       1.0       \n",
       "1 2025-01-08 09:40:55.317306+01:00        []       1.0       \n",
       "2 2025-01-08 20:28:29.350306+01:00        []       1.0       \n",
       "3 2025-01-08 16:34:38.738122+01:00        []       1.0       \n",
       "4 2025-01-09 06:15:23.808027+01:00        []       2.0       "
      ]
     },
     "execution_count": 6,
     "metadata": {},
     "output_type": "execute_result"
    }
   ],
   "source": [
    "# Appel rapide sur la base de donnée par cette requête query1\n",
    "query1 = f\"\"\"\n",
    "SELECT *\n",
    "FROM file('items_receipts.csv', 'CSVWithNames')\n",
    "LIMIT 1000000\n",
    "\"\"\"\n",
    "\n",
    "# Création du dataframe \"data_items_receipts\" à partir de la requête \"query1\" chdb\n",
    "data_items_receipts = chdb.query(query1, output_format='DataFrame')\n",
    "data_items_receipts.head()"
   ]
  },
  {
   "cell_type": "code",
   "execution_count": 8,
   "id": "68403dd1-e4c3-4d89-943e-9c80450f6167",
   "metadata": {},
   "outputs": [
    {
     "data": {
      "text/plain": [
       "np.int64(0)"
      ]
     },
     "execution_count": 8,
     "metadata": {},
     "output_type": "execute_result"
    }
   ],
   "source": [
    "# Vérification des doublons seulement à la colonne des 'id'\n",
    "data_items_receipts['id'].duplicated().sum()"
   ]
  },
  {
   "cell_type": "markdown",
   "id": "bfc7f231-5baf-46b3-975c-04e84dc7c611",
   "metadata": {},
   "source": [
    "#### DATAFRAME rcp"
   ]
  },
  {
   "cell_type": "code",
   "execution_count": 13,
   "id": "d6ccf1a9-c56b-4a20-94ad-5878ea3f08ba",
   "metadata": {},
   "outputs": [
    {
     "data": {
      "text/html": [
       "<div>\n",
       "<style scoped>\n",
       "    .dataframe tbody tr th:only-of-type {\n",
       "        vertical-align: middle;\n",
       "    }\n",
       "\n",
       "    .dataframe tbody tr th {\n",
       "        vertical-align: top;\n",
       "    }\n",
       "\n",
       "    .dataframe thead th {\n",
       "        text-align: right;\n",
       "    }\n",
       "</style>\n",
       "<table border=\"1\" class=\"dataframe\">\n",
       "  <thead>\n",
       "    <tr style=\"text-align: right;\">\n",
       "      <th></th>\n",
       "      <th>id</th>\n",
       "      <th>amount</th>\n",
       "      <th>date</th>\n",
       "      <th>storeId</th>\n",
       "    </tr>\n",
       "  </thead>\n",
       "  <tbody>\n",
       "    <tr>\n",
       "      <th>0</th>\n",
       "      <td>06d96bb2-7b4d-4f00-8003-373b7a6d2ce5</td>\n",
       "      <td>20.0</td>\n",
       "      <td>1736003905000</td>\n",
       "      <td>bac373f8-5103-4970-bbf8-b100770b4eaf</td>\n",
       "    </tr>\n",
       "    <tr>\n",
       "      <th>1</th>\n",
       "      <td>747f7768-5932-46e0-93af-4023e86942e5</td>\n",
       "      <td>34.6</td>\n",
       "      <td>1735832361000</td>\n",
       "      <td>7fb46c64-9bcc-4aec-b18a-ed4d26ea1ac7</td>\n",
       "    </tr>\n",
       "    <tr>\n",
       "      <th>2</th>\n",
       "      <td>ad0ee8fc-e190-4d93-93af-4061050c0c26</td>\n",
       "      <td>11.6</td>\n",
       "      <td>1735894715000</td>\n",
       "      <td>48fe6c9e-7f3c-404c-84d2-56bbb319427e</td>\n",
       "    </tr>\n",
       "    <tr>\n",
       "      <th>3</th>\n",
       "      <td>b43b7e76-a649-4681-93af-4064538ea508</td>\n",
       "      <td>100.5</td>\n",
       "      <td>1735813079000</td>\n",
       "      <td>120f9ff8-8b5c-4fac-9cea-4e51c3ec690a</td>\n",
       "    </tr>\n",
       "    <tr>\n",
       "      <th>4</th>\n",
       "      <td>5dcea717-1771-4df8-93af-408b3a39727d</td>\n",
       "      <td>100.5</td>\n",
       "      <td>1735745250000</td>\n",
       "      <td>7b893a24-3dc3-45cb-aa72-b290dbf42511</td>\n",
       "    </tr>\n",
       "  </tbody>\n",
       "</table>\n",
       "</div>"
      ],
      "text/plain": [
       "                                     id  amount           date  \\\n",
       "0  06d96bb2-7b4d-4f00-8003-373b7a6d2ce5    20.0  1736003905000   \n",
       "1  747f7768-5932-46e0-93af-4023e86942e5    34.6  1735832361000   \n",
       "2  ad0ee8fc-e190-4d93-93af-4061050c0c26    11.6  1735894715000   \n",
       "3  b43b7e76-a649-4681-93af-4064538ea508   100.5  1735813079000   \n",
       "4  5dcea717-1771-4df8-93af-408b3a39727d   100.5  1735745250000   \n",
       "\n",
       "                                storeId  \n",
       "0  bac373f8-5103-4970-bbf8-b100770b4eaf  \n",
       "1  7fb46c64-9bcc-4aec-b18a-ed4d26ea1ac7  \n",
       "2  48fe6c9e-7f3c-404c-84d2-56bbb319427e  \n",
       "3  120f9ff8-8b5c-4fac-9cea-4e51c3ec690a  \n",
       "4  7b893a24-3dc3-45cb-aa72-b290dbf42511  "
      ]
     },
     "execution_count": 13,
     "metadata": {},
     "output_type": "execute_result"
    }
   ],
   "source": [
    "# Appel rapide sur la base de donnée par cette requête query2\n",
    "query2 = f\"\"\"\n",
    "SELECT *\n",
    "FROM file('rcpt2.csv', 'CSVWithNames')\n",
    "LIMIT 1000000\n",
    "\"\"\"\n",
    "\n",
    "# Création du dataframe \"data_rcp\" à partir de la requête \"query2\" chdb\n",
    "data_rcp = chdb.query(query2, output_format='DataFrame')\n",
    "data_rcp.head()"
   ]
  },
  {
   "cell_type": "code",
   "execution_count": 14,
   "id": "b22c4560-0b7a-42f0-af6a-b1d3a00043de",
   "metadata": {},
   "outputs": [
    {
     "data": {
      "text/plain": [
       "np.int64(0)"
      ]
     },
     "execution_count": 14,
     "metadata": {},
     "output_type": "execute_result"
    }
   ],
   "source": [
    "# Vérification des doublons seulement à la colonne des 'id'\n",
    "data_rcp['id'].duplicated().sum()"
   ]
  },
  {
   "cell_type": "markdown",
   "id": "496b28f3-1f15-4020-9bfa-2d5c0f183201",
   "metadata": {},
   "source": [
    "#### DATAFRAME stores"
   ]
  },
  {
   "cell_type": "code",
   "execution_count": 11,
   "id": "414eb7d8-0821-49be-89c5-87e104dfcf18",
   "metadata": {},
   "outputs": [
    {
     "data": {
      "text/html": [
       "<div>\n",
       "<style scoped>\n",
       "    .dataframe tbody tr th:only-of-type {\n",
       "        vertical-align: middle;\n",
       "    }\n",
       "\n",
       "    .dataframe tbody tr th {\n",
       "        vertical-align: top;\n",
       "    }\n",
       "\n",
       "    .dataframe thead th {\n",
       "        text-align: right;\n",
       "    }\n",
       "</style>\n",
       "<table border=\"1\" class=\"dataframe\">\n",
       "  <thead>\n",
       "    <tr style=\"text-align: right;\">\n",
       "      <th></th>\n",
       "      <th>id</th>\n",
       "      <th>name</th>\n",
       "      <th>postalCode</th>\n",
       "    </tr>\n",
       "  </thead>\n",
       "  <tbody>\n",
       "    <tr>\n",
       "      <th>0</th>\n",
       "      <td>85dcc8a2-0e5b-472c-8000-c167882c634e</td>\n",
       "      <td>EXCEL 'FOOD</td>\n",
       "      <td>93200.0</td>\n",
       "    </tr>\n",
       "    <tr>\n",
       "      <th>1</th>\n",
       "      <td>0a3791eb-2949-4b65-8001-46da3db64098</td>\n",
       "      <td>iStrada Bar</td>\n",
       "      <td>69230.0</td>\n",
       "    </tr>\n",
       "    <tr>\n",
       "      <th>2</th>\n",
       "      <td>f96cf836-d5eb-4626-8001-c7e2522de056</td>\n",
       "      <td>SAS l'ECRIN A BIJOU</td>\n",
       "      <td>42300.0</td>\n",
       "    </tr>\n",
       "    <tr>\n",
       "      <th>3</th>\n",
       "      <td>2830c3be-197e-4fb5-8005-c4f53a3f5862</td>\n",
       "      <td>Pêle-Mêle</td>\n",
       "      <td>NaN</td>\n",
       "    </tr>\n",
       "    <tr>\n",
       "      <th>4</th>\n",
       "      <td>5869b823-74af-4862-8009-6dfb1bdfc92f</td>\n",
       "      <td>LES GOURMANDISES DU DON</td>\n",
       "      <td>44520.0</td>\n",
       "    </tr>\n",
       "  </tbody>\n",
       "</table>\n",
       "</div>"
      ],
      "text/plain": [
       "                                     id                     name  postalCode\n",
       "0  85dcc8a2-0e5b-472c-8000-c167882c634e              EXCEL 'FOOD     93200.0\n",
       "1  0a3791eb-2949-4b65-8001-46da3db64098              iStrada Bar     69230.0\n",
       "2  f96cf836-d5eb-4626-8001-c7e2522de056      SAS l'ECRIN A BIJOU     42300.0\n",
       "3  2830c3be-197e-4fb5-8005-c4f53a3f5862                Pêle-Mêle         NaN\n",
       "4  5869b823-74af-4862-8009-6dfb1bdfc92f  LES GOURMANDISES DU DON     44520.0"
      ]
     },
     "execution_count": 11,
     "metadata": {},
     "output_type": "execute_result"
    }
   ],
   "source": [
    "# Appel rapide sur la base de donnée par cette requête query3\n",
    "query3 = f\"\"\"\n",
    "SELECT *\n",
    "FROM file('stores.csv', 'CSVWithNames')\n",
    "LIMIT 1000000\n",
    "\"\"\"\n",
    "\n",
    "# Création du dataframe \"data_stores\" à partir de la requête \"query3\" chdb\n",
    "data_stores = chdb.query(query3, output_format='DataFrame')\n",
    "data_stores.head()"
   ]
  },
  {
   "cell_type": "code",
   "execution_count": 12,
   "id": "e78ba6e8-7db0-4998-bd1b-fb2a6150b191",
   "metadata": {},
   "outputs": [
    {
     "data": {
      "text/plain": [
       "np.int64(0)"
      ]
     },
     "execution_count": 12,
     "metadata": {},
     "output_type": "execute_result"
    }
   ],
   "source": [
    "#Vérification des doublons seulement à la colonne des 'id'\n",
    "data_stores['id'].duplicated().sum()"
   ]
  },
  {
   "cell_type": "markdown",
   "id": "c7984512-c225-419e-9df4-0f5075dd7037",
   "metadata": {},
   "source": [
    "#### DATAFRAME items"
   ]
  },
  {
   "cell_type": "code",
   "execution_count": 15,
   "id": "fb2c7b58-19cb-4b5a-996f-43a9d66e7924",
   "metadata": {},
   "outputs": [
    {
     "data": {
      "text/html": [
       "<div>\n",
       "<style scoped>\n",
       "    .dataframe tbody tr th:only-of-type {\n",
       "        vertical-align: middle;\n",
       "    }\n",
       "\n",
       "    .dataframe tbody tr th {\n",
       "        vertical-align: top;\n",
       "    }\n",
       "\n",
       "    .dataframe thead th {\n",
       "        text-align: right;\n",
       "    }\n",
       "</style>\n",
       "<table border=\"1\" class=\"dataframe\">\n",
       "  <thead>\n",
       "    <tr style=\"text-align: right;\">\n",
       "      <th></th>\n",
       "      <th>id</th>\n",
       "      <th>itemName</th>\n",
       "      <th>amount</th>\n",
       "      <th>storeId</th>\n",
       "    </tr>\n",
       "  </thead>\n",
       "  <tbody>\n",
       "    <tr>\n",
       "      <th>0</th>\n",
       "      <td>af23cd34-9e39-42b1-8400-d3f6018d5bfa</td>\n",
       "      <td>pas bcp de sauce tomate</td>\n",
       "      <td>0.00</td>\n",
       "      <td>676ce71a-8cb4-4732-b46c-f31f785d18bf</td>\n",
       "    </tr>\n",
       "    <tr>\n",
       "      <th>1</th>\n",
       "      <td>059881df-90ad-47d7-8400-d42408b4294a</td>\n",
       "      <td>remb. tirage et sport</td>\n",
       "      <td>-3.00</td>\n",
       "      <td>de61d600-48fc-4892-887e-3715df56db6e</td>\n",
       "    </tr>\n",
       "    <tr>\n",
       "      <th>2</th>\n",
       "      <td>2d3d88d2-86ec-47e3-8400-d5e2f6c3f7f4</td>\n",
       "      <td>produit presse</td>\n",
       "      <td>11.99</td>\n",
       "      <td>f9976244-d2e7-42c0-879b-fa0b6bbde02c</td>\n",
       "    </tr>\n",
       "    <tr>\n",
       "      <th>3</th>\n",
       "      <td>ad51964b-0d0b-482a-8400-d67b73fb2677</td>\n",
       "      <td>remboursement jeux</td>\n",
       "      <td>-36.00</td>\n",
       "      <td>95f3c0ab-703b-4e36-81d2-2bc88b727529</td>\n",
       "    </tr>\n",
       "    <tr>\n",
       "      <th>4</th>\n",
       "      <td>18b7db0f-b7ef-435e-8400-d802b12d6959</td>\n",
       "      <td>remb. jeux</td>\n",
       "      <td>-109.00</td>\n",
       "      <td>695aad57-e2ec-4cec-88c4-bc65c919e22b</td>\n",
       "    </tr>\n",
       "  </tbody>\n",
       "</table>\n",
       "</div>"
      ],
      "text/plain": [
       "                                     id                 itemName  amount  \\\n",
       "0  af23cd34-9e39-42b1-8400-d3f6018d5bfa  pas bcp de sauce tomate    0.00   \n",
       "1  059881df-90ad-47d7-8400-d42408b4294a    remb. tirage et sport   -3.00   \n",
       "2  2d3d88d2-86ec-47e3-8400-d5e2f6c3f7f4           produit presse   11.99   \n",
       "3  ad51964b-0d0b-482a-8400-d67b73fb2677       remboursement jeux  -36.00   \n",
       "4  18b7db0f-b7ef-435e-8400-d802b12d6959               remb. jeux -109.00   \n",
       "\n",
       "                                storeId  \n",
       "0  676ce71a-8cb4-4732-b46c-f31f785d18bf  \n",
       "1  de61d600-48fc-4892-887e-3715df56db6e  \n",
       "2  f9976244-d2e7-42c0-879b-fa0b6bbde02c  \n",
       "3  95f3c0ab-703b-4e36-81d2-2bc88b727529  \n",
       "4  695aad57-e2ec-4cec-88c4-bc65c919e22b  "
      ]
     },
     "execution_count": 15,
     "metadata": {},
     "output_type": "execute_result"
    }
   ],
   "source": [
    "# Appel rapide sur la base de donnée par cette requête query4\n",
    "query4 = f\"\"\"\n",
    "SELECT *\n",
    "FROM file('items.csv', 'CSVWithNames')\n",
    "LIMIT 1000000\n",
    "\"\"\"\n",
    "# Création du dataframe \"data_items\" à partir de la requête \"query4\" chdb\n",
    "data_items = chdb.query(query4, output_format='DataFrame')\n",
    "data_items.head()"
   ]
  },
  {
   "cell_type": "code",
   "execution_count": 16,
   "id": "fe56b3b1-d51e-4a6d-acde-9cdf8c8e6e1a",
   "metadata": {},
   "outputs": [
    {
     "data": {
      "text/plain": [
       "np.int64(0)"
      ]
     },
     "execution_count": 16,
     "metadata": {},
     "output_type": "execute_result"
    }
   ],
   "source": [
    "# Vérification des doublons seulement à la colonne des 'id'\n",
    "data_items['id'].duplicated().sum()"
   ]
  },
  {
   "cell_type": "markdown",
   "id": "43e9069c-4e64-4a2b-9ae2-9e5b7ca439d1",
   "metadata": {},
   "source": [
    "#### <font color=\"red\">NB:<font color=\"black\"> Nous avons vérifié les doublons seulement à la colonne 'id' parce que le 'id' est une valeur unique, si d'autres variables changent et que le 'id' est unique il y a bel et bien une raison et rien ne sera à changer sur ces autres variables sans raison."
   ]
  },
  {
   "cell_type": "markdown",
   "id": "fe1b71c8-5632-4432-a35a-c12024731b89",
   "metadata": {},
   "source": [
    "## CONNAITRE LES BOISSONS LES PLUS CONSOMMEE EN FRANCE ET LES TERRITOIRES OU CES BOISSONS SONT LE PLUS CONSOMMEES"
   ]
  },
  {
   "cell_type": "markdown",
   "id": "07c73faf-09a7-486e-9781-425bc8a34cf5",
   "metadata": {},
   "source": [
    "### <font color=\"green\"> I. IDENTIFICATION DE LA TABLE PIVOT"
   ]
  },
  {
   "cell_type": "markdown",
   "id": "64c81063-fcbb-4a53-a746-cfa53e2bfbb8",
   "metadata": {},
   "source": [
    "#### Notre analyse devrait reposer sur les informations liées à la consomamation de boissons sur le territoire français. Donc <font color=\"red\"> 3 informations <font color=\"black\">essentielles sont: <font color=\"red\">consommation, boissons, territoire français.\n",
    "#### Seule <font color=\"red\">LA TABLE items_receipts <font color=\"black\"> contient au moins 2 de ces 3 informations. Ce sont: <font color=\"red\">'itemId'<font color=\"black\"> qui correspond à <font color=\"red\"> boissons <font color=\"black\"> et <font color=\"red\"> 'quantity' <font color=\"black\"> qui correspond à <font color=\"red\"> consommation.\n",
    "\n",
    "#### LA TABLE PIVOT EST: <font color=\"red\">items_receipts"
   ]
  },
  {
   "cell_type": "markdown",
   "id": "e85f0590-b7f4-4e77-ae43-54eae05af8fd",
   "metadata": {},
   "source": [
    "### <font color=\"green\"> II. LES DIFFERENTES JOINTURES"
   ]
  },
  {
   "cell_type": "markdown",
   "id": "98aef147-b7f2-470f-9e0e-5b5c995e53de",
   "metadata": {},
   "source": [
    "##### <font color=\"green\"> JOINTURES DE GAUCHE DE LA TABLE items_receipts AVEC LA TABLE items"
   ]
  },
  {
   "cell_type": "markdown",
   "id": "94784987-0902-4eb7-8030-8ddd54b185cb",
   "metadata": {},
   "source": [
    "##### Clé étrangère:<font color=\"red\"> 'itemId' \n",
    "##### Clé primaire:<font color=\"red\"> 'id'"
   ]
  },
  {
   "cell_type": "code",
   "execution_count": 19,
   "id": "650a8f7e-6a28-4868-95b0-c132fe82c925",
   "metadata": {},
   "outputs": [
    {
     "data": {
      "text/html": [
       "<div>\n",
       "<style scoped>\n",
       "    .dataframe tbody tr th:only-of-type {\n",
       "        vertical-align: middle;\n",
       "    }\n",
       "\n",
       "    .dataframe tbody tr th {\n",
       "        vertical-align: top;\n",
       "    }\n",
       "\n",
       "    .dataframe thead th {\n",
       "        text-align: right;\n",
       "    }\n",
       "</style>\n",
       "<table border=\"1\" class=\"dataframe\">\n",
       "  <thead>\n",
       "    <tr style=\"text-align: right;\">\n",
       "      <th></th>\n",
       "      <th>id</th>\n",
       "      <th>receiptId</th>\n",
       "      <th>itemId</th>\n",
       "      <th>createdAt</th>\n",
       "      <th>updatedAt</th>\n",
       "      <th>selection</th>\n",
       "      <th>quantity</th>\n",
       "      <th>unit</th>\n",
       "      <th>id_item</th>\n",
       "      <th>itemName</th>\n",
       "      <th>amount</th>\n",
       "      <th>storeId</th>\n",
       "    </tr>\n",
       "  </thead>\n",
       "  <tbody>\n",
       "    <tr>\n",
       "      <th>0</th>\n",
       "      <td>9b71abf8-5a5b-4435-965b-db527a90895d</td>\n",
       "      <td>4cf842bc-28ee-420b-9d7c-be3f57046099</td>\n",
       "      <td>85e051d2-becd-48c0-83ee-7b85a8299c65</td>\n",
       "      <td>2025-01-08 18:58:31.532807+01:00</td>\n",
       "      <td>2025-01-08 18:58:31.532807+01:00</td>\n",
       "      <td>[]</td>\n",
       "      <td>1.0</td>\n",
       "      <td></td>\n",
       "      <td>NaN</td>\n",
       "      <td>NaN</td>\n",
       "      <td>NaN</td>\n",
       "      <td>NaN</td>\n",
       "    </tr>\n",
       "    <tr>\n",
       "      <th>1</th>\n",
       "      <td>ae81fa91-faab-4299-965b-dbd48af95a84</td>\n",
       "      <td>f7e841a5-0e92-4291-ab7e-d17fa38ed17b</td>\n",
       "      <td>f8ad7315-aaea-4dd8-ab10-5e7bd6775844</td>\n",
       "      <td>2025-01-08 09:40:55.317306+01:00</td>\n",
       "      <td>2025-01-08 09:40:55.317306+01:00</td>\n",
       "      <td>[]</td>\n",
       "      <td>1.0</td>\n",
       "      <td></td>\n",
       "      <td>NaN</td>\n",
       "      <td>NaN</td>\n",
       "      <td>NaN</td>\n",
       "      <td>NaN</td>\n",
       "    </tr>\n",
       "    <tr>\n",
       "      <th>2</th>\n",
       "      <td>0d0a0245-442b-40be-965b-dc313d64ecfc</td>\n",
       "      <td>277ab13e-d7fb-4949-b15e-a3912954583e</td>\n",
       "      <td>f01da06e-0ded-4e3a-be19-d9d1d448e2d2</td>\n",
       "      <td>2025-01-08 20:28:29.350306+01:00</td>\n",
       "      <td>2025-01-08 20:28:29.350306+01:00</td>\n",
       "      <td>[]</td>\n",
       "      <td>1.0</td>\n",
       "      <td></td>\n",
       "      <td>NaN</td>\n",
       "      <td>NaN</td>\n",
       "      <td>NaN</td>\n",
       "      <td>NaN</td>\n",
       "    </tr>\n",
       "    <tr>\n",
       "      <th>3</th>\n",
       "      <td>ec61fdd9-835c-4fe9-965b-dc388d2ac924</td>\n",
       "      <td>7aba0a49-4f06-4659-baa5-2995c7db8de0</td>\n",
       "      <td>241312f8-0471-4f51-9601-5f24a8434474</td>\n",
       "      <td>2025-01-08 16:34:38.738122+01:00</td>\n",
       "      <td>2025-01-08 16:34:38.738122+01:00</td>\n",
       "      <td>[]</td>\n",
       "      <td>1.0</td>\n",
       "      <td></td>\n",
       "      <td>NaN</td>\n",
       "      <td>NaN</td>\n",
       "      <td>NaN</td>\n",
       "      <td>NaN</td>\n",
       "    </tr>\n",
       "    <tr>\n",
       "      <th>4</th>\n",
       "      <td>77977ac9-0487-4c0d-965b-dca4699528c2</td>\n",
       "      <td>4e748183-cbe8-4b14-aa52-baaed9129fe3</td>\n",
       "      <td>056dcdac-9bd7-497d-b8cf-248f96a2ec8a</td>\n",
       "      <td>2025-01-09 06:15:23.808027+01:00</td>\n",
       "      <td>2025-01-09 06:15:23.808027+01:00</td>\n",
       "      <td>[]</td>\n",
       "      <td>2.0</td>\n",
       "      <td></td>\n",
       "      <td>056dcdac-9bd7-497d-b8cf-248f96a2ec8a</td>\n",
       "      <td>jeux 10e</td>\n",
       "      <td>10.0</td>\n",
       "      <td>a021811c-56f0-489f-a32a-98b18039a57e</td>\n",
       "    </tr>\n",
       "  </tbody>\n",
       "</table>\n",
       "</div>"
      ],
      "text/plain": [
       "                                     id                             receiptId  \\\n",
       "0  9b71abf8-5a5b-4435-965b-db527a90895d  4cf842bc-28ee-420b-9d7c-be3f57046099   \n",
       "1  ae81fa91-faab-4299-965b-dbd48af95a84  f7e841a5-0e92-4291-ab7e-d17fa38ed17b   \n",
       "2  0d0a0245-442b-40be-965b-dc313d64ecfc  277ab13e-d7fb-4949-b15e-a3912954583e   \n",
       "3  ec61fdd9-835c-4fe9-965b-dc388d2ac924  7aba0a49-4f06-4659-baa5-2995c7db8de0   \n",
       "4  77977ac9-0487-4c0d-965b-dca4699528c2  4e748183-cbe8-4b14-aa52-baaed9129fe3   \n",
       "\n",
       "                                 itemId                        createdAt  \\\n",
       "0  85e051d2-becd-48c0-83ee-7b85a8299c65 2025-01-08 18:58:31.532807+01:00   \n",
       "1  f8ad7315-aaea-4dd8-ab10-5e7bd6775844 2025-01-08 09:40:55.317306+01:00   \n",
       "2  f01da06e-0ded-4e3a-be19-d9d1d448e2d2 2025-01-08 20:28:29.350306+01:00   \n",
       "3  241312f8-0471-4f51-9601-5f24a8434474 2025-01-08 16:34:38.738122+01:00   \n",
       "4  056dcdac-9bd7-497d-b8cf-248f96a2ec8a 2025-01-09 06:15:23.808027+01:00   \n",
       "\n",
       "                         updatedAt selection  quantity unit  \\\n",
       "0 2025-01-08 18:58:31.532807+01:00        []       1.0        \n",
       "1 2025-01-08 09:40:55.317306+01:00        []       1.0        \n",
       "2 2025-01-08 20:28:29.350306+01:00        []       1.0        \n",
       "3 2025-01-08 16:34:38.738122+01:00        []       1.0        \n",
       "4 2025-01-09 06:15:23.808027+01:00        []       2.0        \n",
       "\n",
       "                                id_item  itemName  amount  \\\n",
       "0                                   NaN       NaN     NaN   \n",
       "1                                   NaN       NaN     NaN   \n",
       "2                                   NaN       NaN     NaN   \n",
       "3                                   NaN       NaN     NaN   \n",
       "4  056dcdac-9bd7-497d-b8cf-248f96a2ec8a  jeux 10e    10.0   \n",
       "\n",
       "                                storeId  \n",
       "0                                   NaN  \n",
       "1                                   NaN  \n",
       "2                                   NaN  \n",
       "3                                   NaN  \n",
       "4  a021811c-56f0-489f-a32a-98b18039a57e  "
      ]
     },
     "execution_count": 19,
     "metadata": {},
     "output_type": "execute_result"
    }
   ],
   "source": [
    "# Jointure avec items, pour avoir itemName et amount dans la base\n",
    "data_main= data_items_receipts.merge(data_items, left_on=\"itemId\", right_on=\"id\", how=\"left\", suffixes=('', '_item'))\n",
    "\n",
    "# Affichage des 5 premières lignes du Dataframe data_main\n",
    "data_main.head()"
   ]
  },
  {
   "cell_type": "markdown",
   "id": "ca4a56af-fea9-47b4-9d0b-4f67027c7e93",
   "metadata": {},
   "source": [
    "##### <font color=\"green\"> JOINTURES DE GAUCHE DE LA TABLE data_main AVEC LA TABLE rcp"
   ]
  },
  {
   "cell_type": "markdown",
   "id": "408553e5-a3f5-473a-9960-5612059feae6",
   "metadata": {},
   "source": [
    "##### Clé étrangère:<font color=\"red\"> 'receiptId' \n",
    "##### Clé primaire:<font color=\"red\"> 'id'"
   ]
  },
  {
   "cell_type": "code",
   "execution_count": 20,
   "id": "b2e90667-c20b-469c-9f6f-8db52703382e",
   "metadata": {},
   "outputs": [
    {
     "data": {
      "text/html": [
       "<div>\n",
       "<style scoped>\n",
       "    .dataframe tbody tr th:only-of-type {\n",
       "        vertical-align: middle;\n",
       "    }\n",
       "\n",
       "    .dataframe tbody tr th {\n",
       "        vertical-align: top;\n",
       "    }\n",
       "\n",
       "    .dataframe thead th {\n",
       "        text-align: right;\n",
       "    }\n",
       "</style>\n",
       "<table border=\"1\" class=\"dataframe\">\n",
       "  <thead>\n",
       "    <tr style=\"text-align: right;\">\n",
       "      <th></th>\n",
       "      <th>id</th>\n",
       "      <th>receiptId</th>\n",
       "      <th>itemId</th>\n",
       "      <th>createdAt</th>\n",
       "      <th>updatedAt</th>\n",
       "      <th>selection</th>\n",
       "      <th>quantity</th>\n",
       "      <th>unit</th>\n",
       "      <th>id_item</th>\n",
       "      <th>itemName</th>\n",
       "      <th>amount</th>\n",
       "      <th>storeId</th>\n",
       "      <th>id_rcp</th>\n",
       "      <th>amount_rcp</th>\n",
       "      <th>date</th>\n",
       "      <th>storeId_rcp</th>\n",
       "    </tr>\n",
       "  </thead>\n",
       "  <tbody>\n",
       "    <tr>\n",
       "      <th>0</th>\n",
       "      <td>9b71abf8-5a5b-4435-965b-db527a90895d</td>\n",
       "      <td>4cf842bc-28ee-420b-9d7c-be3f57046099</td>\n",
       "      <td>85e051d2-becd-48c0-83ee-7b85a8299c65</td>\n",
       "      <td>2025-01-08 18:58:31.532807+01:00</td>\n",
       "      <td>2025-01-08 18:58:31.532807+01:00</td>\n",
       "      <td>[]</td>\n",
       "      <td>1.0</td>\n",
       "      <td></td>\n",
       "      <td>NaN</td>\n",
       "      <td>NaN</td>\n",
       "      <td>NaN</td>\n",
       "      <td>NaN</td>\n",
       "      <td>NaN</td>\n",
       "      <td>NaN</td>\n",
       "      <td>NaN</td>\n",
       "      <td>NaN</td>\n",
       "    </tr>\n",
       "    <tr>\n",
       "      <th>1</th>\n",
       "      <td>ae81fa91-faab-4299-965b-dbd48af95a84</td>\n",
       "      <td>f7e841a5-0e92-4291-ab7e-d17fa38ed17b</td>\n",
       "      <td>f8ad7315-aaea-4dd8-ab10-5e7bd6775844</td>\n",
       "      <td>2025-01-08 09:40:55.317306+01:00</td>\n",
       "      <td>2025-01-08 09:40:55.317306+01:00</td>\n",
       "      <td>[]</td>\n",
       "      <td>1.0</td>\n",
       "      <td></td>\n",
       "      <td>NaN</td>\n",
       "      <td>NaN</td>\n",
       "      <td>NaN</td>\n",
       "      <td>NaN</td>\n",
       "      <td>NaN</td>\n",
       "      <td>NaN</td>\n",
       "      <td>NaN</td>\n",
       "      <td>NaN</td>\n",
       "    </tr>\n",
       "    <tr>\n",
       "      <th>2</th>\n",
       "      <td>0d0a0245-442b-40be-965b-dc313d64ecfc</td>\n",
       "      <td>277ab13e-d7fb-4949-b15e-a3912954583e</td>\n",
       "      <td>f01da06e-0ded-4e3a-be19-d9d1d448e2d2</td>\n",
       "      <td>2025-01-08 20:28:29.350306+01:00</td>\n",
       "      <td>2025-01-08 20:28:29.350306+01:00</td>\n",
       "      <td>[]</td>\n",
       "      <td>1.0</td>\n",
       "      <td></td>\n",
       "      <td>NaN</td>\n",
       "      <td>NaN</td>\n",
       "      <td>NaN</td>\n",
       "      <td>NaN</td>\n",
       "      <td>NaN</td>\n",
       "      <td>NaN</td>\n",
       "      <td>NaN</td>\n",
       "      <td>NaN</td>\n",
       "    </tr>\n",
       "    <tr>\n",
       "      <th>3</th>\n",
       "      <td>ec61fdd9-835c-4fe9-965b-dc388d2ac924</td>\n",
       "      <td>7aba0a49-4f06-4659-baa5-2995c7db8de0</td>\n",
       "      <td>241312f8-0471-4f51-9601-5f24a8434474</td>\n",
       "      <td>2025-01-08 16:34:38.738122+01:00</td>\n",
       "      <td>2025-01-08 16:34:38.738122+01:00</td>\n",
       "      <td>[]</td>\n",
       "      <td>1.0</td>\n",
       "      <td></td>\n",
       "      <td>NaN</td>\n",
       "      <td>NaN</td>\n",
       "      <td>NaN</td>\n",
       "      <td>NaN</td>\n",
       "      <td>NaN</td>\n",
       "      <td>NaN</td>\n",
       "      <td>NaN</td>\n",
       "      <td>NaN</td>\n",
       "    </tr>\n",
       "    <tr>\n",
       "      <th>4</th>\n",
       "      <td>77977ac9-0487-4c0d-965b-dca4699528c2</td>\n",
       "      <td>4e748183-cbe8-4b14-aa52-baaed9129fe3</td>\n",
       "      <td>056dcdac-9bd7-497d-b8cf-248f96a2ec8a</td>\n",
       "      <td>2025-01-09 06:15:23.808027+01:00</td>\n",
       "      <td>2025-01-09 06:15:23.808027+01:00</td>\n",
       "      <td>[]</td>\n",
       "      <td>2.0</td>\n",
       "      <td></td>\n",
       "      <td>056dcdac-9bd7-497d-b8cf-248f96a2ec8a</td>\n",
       "      <td>jeux 10e</td>\n",
       "      <td>10.0</td>\n",
       "      <td>a021811c-56f0-489f-a32a-98b18039a57e</td>\n",
       "      <td>4e748183-cbe8-4b14-aa52-baaed9129fe3</td>\n",
       "      <td>-13.6</td>\n",
       "      <td>1.736164e+12</td>\n",
       "      <td>a021811c-56f0-489f-a32a-98b18039a57e</td>\n",
       "    </tr>\n",
       "  </tbody>\n",
       "</table>\n",
       "</div>"
      ],
      "text/plain": [
       "                                     id                             receiptId  \\\n",
       "0  9b71abf8-5a5b-4435-965b-db527a90895d  4cf842bc-28ee-420b-9d7c-be3f57046099   \n",
       "1  ae81fa91-faab-4299-965b-dbd48af95a84  f7e841a5-0e92-4291-ab7e-d17fa38ed17b   \n",
       "2  0d0a0245-442b-40be-965b-dc313d64ecfc  277ab13e-d7fb-4949-b15e-a3912954583e   \n",
       "3  ec61fdd9-835c-4fe9-965b-dc388d2ac924  7aba0a49-4f06-4659-baa5-2995c7db8de0   \n",
       "4  77977ac9-0487-4c0d-965b-dca4699528c2  4e748183-cbe8-4b14-aa52-baaed9129fe3   \n",
       "\n",
       "                                 itemId                        createdAt  \\\n",
       "0  85e051d2-becd-48c0-83ee-7b85a8299c65 2025-01-08 18:58:31.532807+01:00   \n",
       "1  f8ad7315-aaea-4dd8-ab10-5e7bd6775844 2025-01-08 09:40:55.317306+01:00   \n",
       "2  f01da06e-0ded-4e3a-be19-d9d1d448e2d2 2025-01-08 20:28:29.350306+01:00   \n",
       "3  241312f8-0471-4f51-9601-5f24a8434474 2025-01-08 16:34:38.738122+01:00   \n",
       "4  056dcdac-9bd7-497d-b8cf-248f96a2ec8a 2025-01-09 06:15:23.808027+01:00   \n",
       "\n",
       "                         updatedAt selection  quantity unit  \\\n",
       "0 2025-01-08 18:58:31.532807+01:00        []       1.0        \n",
       "1 2025-01-08 09:40:55.317306+01:00        []       1.0        \n",
       "2 2025-01-08 20:28:29.350306+01:00        []       1.0        \n",
       "3 2025-01-08 16:34:38.738122+01:00        []       1.0        \n",
       "4 2025-01-09 06:15:23.808027+01:00        []       2.0        \n",
       "\n",
       "                                id_item  itemName  amount  \\\n",
       "0                                   NaN       NaN     NaN   \n",
       "1                                   NaN       NaN     NaN   \n",
       "2                                   NaN       NaN     NaN   \n",
       "3                                   NaN       NaN     NaN   \n",
       "4  056dcdac-9bd7-497d-b8cf-248f96a2ec8a  jeux 10e    10.0   \n",
       "\n",
       "                                storeId                                id_rcp  \\\n",
       "0                                   NaN                                   NaN   \n",
       "1                                   NaN                                   NaN   \n",
       "2                                   NaN                                   NaN   \n",
       "3                                   NaN                                   NaN   \n",
       "4  a021811c-56f0-489f-a32a-98b18039a57e  4e748183-cbe8-4b14-aa52-baaed9129fe3   \n",
       "\n",
       "   amount_rcp          date                           storeId_rcp  \n",
       "0         NaN           NaN                                   NaN  \n",
       "1         NaN           NaN                                   NaN  \n",
       "2         NaN           NaN                                   NaN  \n",
       "3         NaN           NaN                                   NaN  \n",
       "4       -13.6  1.736164e+12  a021811c-56f0-489f-a32a-98b18039a57e  "
      ]
     },
     "execution_count": 20,
     "metadata": {},
     "output_type": "execute_result"
    }
   ],
   "source": [
    "# Jointure avec rcp pour avoir date et storeId dans la base\n",
    "data_main = data_main.merge(data_rcp, left_on=\"receiptId\", right_on=\"id\", how=\"left\", suffixes=('', '_rcp'))\n",
    "\n",
    "# Affichage des 5 premières lignes du Dataframe data_main\n",
    "data_main.head()"
   ]
  },
  {
   "cell_type": "markdown",
   "id": "d78b6356-3cbe-4157-b7b6-27f0c69771da",
   "metadata": {},
   "source": [
    "##### <font color=\"green\"> JOINTURES DE GAUCHE DE LA TABLE data_main AVEC LA TABLE stores"
   ]
  },
  {
   "cell_type": "markdown",
   "id": "4379cecf-51d0-42df-85c5-db7222f08d8a",
   "metadata": {},
   "source": [
    "##### Clé étrangère:<font color=\"red\"> 'storeId' \n",
    "##### Clé primaire:<font color=\"red\"> 'id'"
   ]
  },
  {
   "cell_type": "code",
   "execution_count": 21,
   "id": "2870211b-5482-41e5-bcb8-87ddb712e54b",
   "metadata": {},
   "outputs": [
    {
     "data": {
      "text/html": [
       "<div>\n",
       "<style scoped>\n",
       "    .dataframe tbody tr th:only-of-type {\n",
       "        vertical-align: middle;\n",
       "    }\n",
       "\n",
       "    .dataframe tbody tr th {\n",
       "        vertical-align: top;\n",
       "    }\n",
       "\n",
       "    .dataframe thead th {\n",
       "        text-align: right;\n",
       "    }\n",
       "</style>\n",
       "<table border=\"1\" class=\"dataframe\">\n",
       "  <thead>\n",
       "    <tr style=\"text-align: right;\">\n",
       "      <th></th>\n",
       "      <th>id</th>\n",
       "      <th>receiptId</th>\n",
       "      <th>itemId</th>\n",
       "      <th>createdAt</th>\n",
       "      <th>updatedAt</th>\n",
       "      <th>selection</th>\n",
       "      <th>quantity</th>\n",
       "      <th>unit</th>\n",
       "      <th>id_item</th>\n",
       "      <th>itemName</th>\n",
       "      <th>amount</th>\n",
       "      <th>storeId</th>\n",
       "      <th>id_rcp</th>\n",
       "      <th>amount_rcp</th>\n",
       "      <th>date</th>\n",
       "      <th>storeId_rcp</th>\n",
       "      <th>id_store</th>\n",
       "      <th>name</th>\n",
       "      <th>postalCode</th>\n",
       "    </tr>\n",
       "  </thead>\n",
       "  <tbody>\n",
       "    <tr>\n",
       "      <th>0</th>\n",
       "      <td>9b71abf8-5a5b-4435-965b-db527a90895d</td>\n",
       "      <td>4cf842bc-28ee-420b-9d7c-be3f57046099</td>\n",
       "      <td>85e051d2-becd-48c0-83ee-7b85a8299c65</td>\n",
       "      <td>2025-01-08 18:58:31.532807+01:00</td>\n",
       "      <td>2025-01-08 18:58:31.532807+01:00</td>\n",
       "      <td>[]</td>\n",
       "      <td>1.0</td>\n",
       "      <td></td>\n",
       "      <td>NaN</td>\n",
       "      <td>NaN</td>\n",
       "      <td>NaN</td>\n",
       "      <td>NaN</td>\n",
       "      <td>NaN</td>\n",
       "      <td>NaN</td>\n",
       "      <td>NaN</td>\n",
       "      <td>NaN</td>\n",
       "      <td>None</td>\n",
       "      <td>None</td>\n",
       "      <td>NaN</td>\n",
       "    </tr>\n",
       "    <tr>\n",
       "      <th>1</th>\n",
       "      <td>ae81fa91-faab-4299-965b-dbd48af95a84</td>\n",
       "      <td>f7e841a5-0e92-4291-ab7e-d17fa38ed17b</td>\n",
       "      <td>f8ad7315-aaea-4dd8-ab10-5e7bd6775844</td>\n",
       "      <td>2025-01-08 09:40:55.317306+01:00</td>\n",
       "      <td>2025-01-08 09:40:55.317306+01:00</td>\n",
       "      <td>[]</td>\n",
       "      <td>1.0</td>\n",
       "      <td></td>\n",
       "      <td>NaN</td>\n",
       "      <td>NaN</td>\n",
       "      <td>NaN</td>\n",
       "      <td>NaN</td>\n",
       "      <td>NaN</td>\n",
       "      <td>NaN</td>\n",
       "      <td>NaN</td>\n",
       "      <td>NaN</td>\n",
       "      <td>None</td>\n",
       "      <td>None</td>\n",
       "      <td>NaN</td>\n",
       "    </tr>\n",
       "    <tr>\n",
       "      <th>2</th>\n",
       "      <td>0d0a0245-442b-40be-965b-dc313d64ecfc</td>\n",
       "      <td>277ab13e-d7fb-4949-b15e-a3912954583e</td>\n",
       "      <td>f01da06e-0ded-4e3a-be19-d9d1d448e2d2</td>\n",
       "      <td>2025-01-08 20:28:29.350306+01:00</td>\n",
       "      <td>2025-01-08 20:28:29.350306+01:00</td>\n",
       "      <td>[]</td>\n",
       "      <td>1.0</td>\n",
       "      <td></td>\n",
       "      <td>NaN</td>\n",
       "      <td>NaN</td>\n",
       "      <td>NaN</td>\n",
       "      <td>NaN</td>\n",
       "      <td>NaN</td>\n",
       "      <td>NaN</td>\n",
       "      <td>NaN</td>\n",
       "      <td>NaN</td>\n",
       "      <td>None</td>\n",
       "      <td>None</td>\n",
       "      <td>NaN</td>\n",
       "    </tr>\n",
       "    <tr>\n",
       "      <th>3</th>\n",
       "      <td>ec61fdd9-835c-4fe9-965b-dc388d2ac924</td>\n",
       "      <td>7aba0a49-4f06-4659-baa5-2995c7db8de0</td>\n",
       "      <td>241312f8-0471-4f51-9601-5f24a8434474</td>\n",
       "      <td>2025-01-08 16:34:38.738122+01:00</td>\n",
       "      <td>2025-01-08 16:34:38.738122+01:00</td>\n",
       "      <td>[]</td>\n",
       "      <td>1.0</td>\n",
       "      <td></td>\n",
       "      <td>NaN</td>\n",
       "      <td>NaN</td>\n",
       "      <td>NaN</td>\n",
       "      <td>NaN</td>\n",
       "      <td>NaN</td>\n",
       "      <td>NaN</td>\n",
       "      <td>NaN</td>\n",
       "      <td>NaN</td>\n",
       "      <td>None</td>\n",
       "      <td>None</td>\n",
       "      <td>NaN</td>\n",
       "    </tr>\n",
       "    <tr>\n",
       "      <th>4</th>\n",
       "      <td>77977ac9-0487-4c0d-965b-dca4699528c2</td>\n",
       "      <td>4e748183-cbe8-4b14-aa52-baaed9129fe3</td>\n",
       "      <td>056dcdac-9bd7-497d-b8cf-248f96a2ec8a</td>\n",
       "      <td>2025-01-09 06:15:23.808027+01:00</td>\n",
       "      <td>2025-01-09 06:15:23.808027+01:00</td>\n",
       "      <td>[]</td>\n",
       "      <td>2.0</td>\n",
       "      <td></td>\n",
       "      <td>056dcdac-9bd7-497d-b8cf-248f96a2ec8a</td>\n",
       "      <td>jeux 10e</td>\n",
       "      <td>10.0</td>\n",
       "      <td>a021811c-56f0-489f-a32a-98b18039a57e</td>\n",
       "      <td>4e748183-cbe8-4b14-aa52-baaed9129fe3</td>\n",
       "      <td>-13.6</td>\n",
       "      <td>1.736164e+12</td>\n",
       "      <td>a021811c-56f0-489f-a32a-98b18039a57e</td>\n",
       "      <td>a021811c-56f0-489f-a32a-98b18039a57e</td>\n",
       "      <td>Bar le Corneille</td>\n",
       "      <td>76650.0</td>\n",
       "    </tr>\n",
       "  </tbody>\n",
       "</table>\n",
       "</div>"
      ],
      "text/plain": [
       "                                     id                             receiptId  \\\n",
       "0  9b71abf8-5a5b-4435-965b-db527a90895d  4cf842bc-28ee-420b-9d7c-be3f57046099   \n",
       "1  ae81fa91-faab-4299-965b-dbd48af95a84  f7e841a5-0e92-4291-ab7e-d17fa38ed17b   \n",
       "2  0d0a0245-442b-40be-965b-dc313d64ecfc  277ab13e-d7fb-4949-b15e-a3912954583e   \n",
       "3  ec61fdd9-835c-4fe9-965b-dc388d2ac924  7aba0a49-4f06-4659-baa5-2995c7db8de0   \n",
       "4  77977ac9-0487-4c0d-965b-dca4699528c2  4e748183-cbe8-4b14-aa52-baaed9129fe3   \n",
       "\n",
       "                                 itemId                        createdAt  \\\n",
       "0  85e051d2-becd-48c0-83ee-7b85a8299c65 2025-01-08 18:58:31.532807+01:00   \n",
       "1  f8ad7315-aaea-4dd8-ab10-5e7bd6775844 2025-01-08 09:40:55.317306+01:00   \n",
       "2  f01da06e-0ded-4e3a-be19-d9d1d448e2d2 2025-01-08 20:28:29.350306+01:00   \n",
       "3  241312f8-0471-4f51-9601-5f24a8434474 2025-01-08 16:34:38.738122+01:00   \n",
       "4  056dcdac-9bd7-497d-b8cf-248f96a2ec8a 2025-01-09 06:15:23.808027+01:00   \n",
       "\n",
       "                         updatedAt selection  quantity unit  \\\n",
       "0 2025-01-08 18:58:31.532807+01:00        []       1.0        \n",
       "1 2025-01-08 09:40:55.317306+01:00        []       1.0        \n",
       "2 2025-01-08 20:28:29.350306+01:00        []       1.0        \n",
       "3 2025-01-08 16:34:38.738122+01:00        []       1.0        \n",
       "4 2025-01-09 06:15:23.808027+01:00        []       2.0        \n",
       "\n",
       "                                id_item  itemName  amount  \\\n",
       "0                                   NaN       NaN     NaN   \n",
       "1                                   NaN       NaN     NaN   \n",
       "2                                   NaN       NaN     NaN   \n",
       "3                                   NaN       NaN     NaN   \n",
       "4  056dcdac-9bd7-497d-b8cf-248f96a2ec8a  jeux 10e    10.0   \n",
       "\n",
       "                                storeId                                id_rcp  \\\n",
       "0                                   NaN                                   NaN   \n",
       "1                                   NaN                                   NaN   \n",
       "2                                   NaN                                   NaN   \n",
       "3                                   NaN                                   NaN   \n",
       "4  a021811c-56f0-489f-a32a-98b18039a57e  4e748183-cbe8-4b14-aa52-baaed9129fe3   \n",
       "\n",
       "   amount_rcp          date                           storeId_rcp  \\\n",
       "0         NaN           NaN                                   NaN   \n",
       "1         NaN           NaN                                   NaN   \n",
       "2         NaN           NaN                                   NaN   \n",
       "3         NaN           NaN                                   NaN   \n",
       "4       -13.6  1.736164e+12  a021811c-56f0-489f-a32a-98b18039a57e   \n",
       "\n",
       "                               id_store              name  postalCode  \n",
       "0                                  None              None         NaN  \n",
       "1                                  None              None         NaN  \n",
       "2                                  None              None         NaN  \n",
       "3                                  None              None         NaN  \n",
       "4  a021811c-56f0-489f-a32a-98b18039a57e  Bar le Corneille     76650.0  "
      ]
     },
     "execution_count": 21,
     "metadata": {},
     "output_type": "execute_result"
    }
   ],
   "source": [
    "# Jointure avec stores pour avoir postalCode dans la base\n",
    "data_main = data_main.merge(data_stores, left_on=\"storeId\", right_on=\"id\", how=\"left\", suffixes=('', '_store'))\n",
    "\n",
    "# Affichage des 5 premières lignes du Dataframe data_main\n",
    "data_main.head()"
   ]
  },
  {
   "cell_type": "code",
   "execution_count": 22,
   "id": "6d2cac0e-fe49-4c9c-85c6-51cc29d376d0",
   "metadata": {},
   "outputs": [
    {
     "data": {
      "text/plain": [
       "np.int64(0)"
      ]
     },
     "execution_count": 22,
     "metadata": {},
     "output_type": "execute_result"
    }
   ],
   "source": [
    "# Vérification des doublons seulement à la colonne des 'id'\n",
    "data_main['id'].duplicated().sum()"
   ]
  },
  {
   "cell_type": "markdown",
   "id": "622bf439-72df-4dc4-a802-78bb09aa88a1",
   "metadata": {},
   "source": [
    "### <font color=\"green\"> III. TRANSFORMATION ET NETTOYAGE DE \"data_main\""
   ]
  },
  {
   "cell_type": "markdown",
   "id": "70fe5f75-a17b-47c3-ae60-008bfd29388c",
   "metadata": {},
   "source": [
    "##### <font color=\"green\"> CONVERTIR LA COLONNE 'date'"
   ]
  },
  {
   "cell_type": "markdown",
   "id": "c04623bc-fc52-46ba-9d04-072159795775",
   "metadata": {},
   "source": [
    "La colonne 'date' étant en timestamp UNIX et pas compréhensible, on la convertit pour qu'elle soit lisible dans un format normal."
   ]
  },
  {
   "cell_type": "code",
   "execution_count": 23,
   "id": "0cfed116-77d5-44e8-8d85-cc91a7e99014",
   "metadata": {},
   "outputs": [],
   "source": [
    "# Conversion de la date\n",
    "data_main[\"date\"] = pd.to_datetime(data_main[\"date\"], unit=\"ms\")"
   ]
  },
  {
   "cell_type": "markdown",
   "id": "f56f9284-dd9f-4f97-b15f-5f9872114444",
   "metadata": {},
   "source": [
    "##### <font color=\"green\"> SELECTION DES COLONNES UTILES POUR NOTRE ANALYSE"
   ]
  },
  {
   "cell_type": "code",
   "execution_count": 24,
   "id": "b7aac1cb-1126-433b-968a-80ea85eb2a2e",
   "metadata": {},
   "outputs": [
    {
     "data": {
      "text/html": [
       "<div>\n",
       "<style scoped>\n",
       "    .dataframe tbody tr th:only-of-type {\n",
       "        vertical-align: middle;\n",
       "    }\n",
       "\n",
       "    .dataframe tbody tr th {\n",
       "        vertical-align: top;\n",
       "    }\n",
       "\n",
       "    .dataframe thead th {\n",
       "        text-align: right;\n",
       "    }\n",
       "</style>\n",
       "<table border=\"1\" class=\"dataframe\">\n",
       "  <thead>\n",
       "    <tr style=\"text-align: right;\">\n",
       "      <th></th>\n",
       "      <th>receiptId</th>\n",
       "      <th>date</th>\n",
       "      <th>itemName</th>\n",
       "      <th>quantity</th>\n",
       "      <th>unit_price</th>\n",
       "      <th>postalCode</th>\n",
       "      <th>storeId</th>\n",
       "    </tr>\n",
       "  </thead>\n",
       "  <tbody>\n",
       "    <tr>\n",
       "      <th>0</th>\n",
       "      <td>4cf842bc-28ee-420b-9d7c-be3f57046099</td>\n",
       "      <td>NaT</td>\n",
       "      <td>NaN</td>\n",
       "      <td>1.0</td>\n",
       "      <td>NaN</td>\n",
       "      <td>NaN</td>\n",
       "      <td>NaN</td>\n",
       "    </tr>\n",
       "    <tr>\n",
       "      <th>1</th>\n",
       "      <td>f7e841a5-0e92-4291-ab7e-d17fa38ed17b</td>\n",
       "      <td>NaT</td>\n",
       "      <td>NaN</td>\n",
       "      <td>1.0</td>\n",
       "      <td>NaN</td>\n",
       "      <td>NaN</td>\n",
       "      <td>NaN</td>\n",
       "    </tr>\n",
       "    <tr>\n",
       "      <th>2</th>\n",
       "      <td>277ab13e-d7fb-4949-b15e-a3912954583e</td>\n",
       "      <td>NaT</td>\n",
       "      <td>NaN</td>\n",
       "      <td>1.0</td>\n",
       "      <td>NaN</td>\n",
       "      <td>NaN</td>\n",
       "      <td>NaN</td>\n",
       "    </tr>\n",
       "    <tr>\n",
       "      <th>3</th>\n",
       "      <td>7aba0a49-4f06-4659-baa5-2995c7db8de0</td>\n",
       "      <td>NaT</td>\n",
       "      <td>NaN</td>\n",
       "      <td>1.0</td>\n",
       "      <td>NaN</td>\n",
       "      <td>NaN</td>\n",
       "      <td>NaN</td>\n",
       "    </tr>\n",
       "    <tr>\n",
       "      <th>4</th>\n",
       "      <td>4e748183-cbe8-4b14-aa52-baaed9129fe3</td>\n",
       "      <td>2025-01-06 11:46:13</td>\n",
       "      <td>jeux 10e</td>\n",
       "      <td>2.0</td>\n",
       "      <td>10.0</td>\n",
       "      <td>76650.0</td>\n",
       "      <td>a021811c-56f0-489f-a32a-98b18039a57e</td>\n",
       "    </tr>\n",
       "  </tbody>\n",
       "</table>\n",
       "</div>"
      ],
      "text/plain": [
       "                              receiptId                date  itemName  \\\n",
       "0  4cf842bc-28ee-420b-9d7c-be3f57046099                 NaT       NaN   \n",
       "1  f7e841a5-0e92-4291-ab7e-d17fa38ed17b                 NaT       NaN   \n",
       "2  277ab13e-d7fb-4949-b15e-a3912954583e                 NaT       NaN   \n",
       "3  7aba0a49-4f06-4659-baa5-2995c7db8de0                 NaT       NaN   \n",
       "4  4e748183-cbe8-4b14-aa52-baaed9129fe3 2025-01-06 11:46:13  jeux 10e   \n",
       "\n",
       "   quantity  unit_price  postalCode                               storeId  \n",
       "0       1.0         NaN         NaN                                   NaN  \n",
       "1       1.0         NaN         NaN                                   NaN  \n",
       "2       1.0         NaN         NaN                                   NaN  \n",
       "3       1.0         NaN         NaN                                   NaN  \n",
       "4       2.0        10.0     76650.0  a021811c-56f0-489f-a32a-98b18039a57e  "
      ]
     },
     "execution_count": 24,
     "metadata": {},
     "output_type": "execute_result"
    }
   ],
   "source": [
    "# Sélection des colonnes\n",
    "data_main = data_main[[\n",
    "    \"receiptId\", \"date\", \"itemName\", \"quantity\", \"amount\",\"postalCode\", \"storeId\"\n",
    "]].rename(columns={\n",
    "    \"amount\": \"unit_price\"\n",
    "})\n",
    "\n",
    "# Afficher les 5 premières lignes de 'data_main'\n",
    "data_main.head()"
   ]
  },
  {
   "cell_type": "markdown",
   "id": "ddfa3c37-df66-4145-a79b-4ed86fdb1bdb",
   "metadata": {},
   "source": [
    "#### NB: On remarque que la colonne <font color=\"red\"> 'quantity'<font color=\"black\"> et <font color=\"red\">'postalCode'<font color=\"black\"> qui doivent être des entiers, sont en décimaux. On vérifie leurs types, si ils sont en décimaux, on les corrige et on les met en entier."
   ]
  },
  {
   "cell_type": "code",
   "execution_count": 11,
   "id": "5af4ca3b-cb4c-42cb-b0e0-1c653ece3955",
   "metadata": {},
   "outputs": [
    {
     "data": {
      "text/plain": [
       "receiptId             object\n",
       "date          datetime64[ns]\n",
       "itemName              object\n",
       "quantity             float64\n",
       "unit_price           float64\n",
       "postalCode           float64\n",
       "storeId               object\n",
       "dtype: object"
      ]
     },
     "execution_count": 11,
     "metadata": {},
     "output_type": "execute_result"
    }
   ],
   "source": [
    "# Vérification du type des colonnes \n",
    "data_main.dtypes"
   ]
  },
  {
   "cell_type": "code",
   "execution_count": 12,
   "id": "2bf72146-6945-4740-92ab-2ee8f274d4a4",
   "metadata": {},
   "outputs": [
    {
     "data": {
      "text/html": [
       "<div>\n",
       "<style scoped>\n",
       "    .dataframe tbody tr th:only-of-type {\n",
       "        vertical-align: middle;\n",
       "    }\n",
       "\n",
       "    .dataframe tbody tr th {\n",
       "        vertical-align: top;\n",
       "    }\n",
       "\n",
       "    .dataframe thead th {\n",
       "        text-align: right;\n",
       "    }\n",
       "</style>\n",
       "<table border=\"1\" class=\"dataframe\">\n",
       "  <thead>\n",
       "    <tr style=\"text-align: right;\">\n",
       "      <th></th>\n",
       "      <th>receiptId</th>\n",
       "      <th>date</th>\n",
       "      <th>itemName</th>\n",
       "      <th>quantity</th>\n",
       "      <th>unit_price</th>\n",
       "      <th>postalCode</th>\n",
       "      <th>storeId</th>\n",
       "    </tr>\n",
       "  </thead>\n",
       "  <tbody>\n",
       "    <tr>\n",
       "      <th>0</th>\n",
       "      <td>4cf842bc-28ee-420b-9d7c-be3f57046099</td>\n",
       "      <td>NaT</td>\n",
       "      <td>NaN</td>\n",
       "      <td>1</td>\n",
       "      <td>NaN</td>\n",
       "      <td>0</td>\n",
       "      <td>NaN</td>\n",
       "    </tr>\n",
       "    <tr>\n",
       "      <th>1</th>\n",
       "      <td>f7e841a5-0e92-4291-ab7e-d17fa38ed17b</td>\n",
       "      <td>NaT</td>\n",
       "      <td>NaN</td>\n",
       "      <td>1</td>\n",
       "      <td>NaN</td>\n",
       "      <td>0</td>\n",
       "      <td>NaN</td>\n",
       "    </tr>\n",
       "    <tr>\n",
       "      <th>2</th>\n",
       "      <td>277ab13e-d7fb-4949-b15e-a3912954583e</td>\n",
       "      <td>NaT</td>\n",
       "      <td>NaN</td>\n",
       "      <td>1</td>\n",
       "      <td>NaN</td>\n",
       "      <td>0</td>\n",
       "      <td>NaN</td>\n",
       "    </tr>\n",
       "    <tr>\n",
       "      <th>3</th>\n",
       "      <td>7aba0a49-4f06-4659-baa5-2995c7db8de0</td>\n",
       "      <td>NaT</td>\n",
       "      <td>NaN</td>\n",
       "      <td>1</td>\n",
       "      <td>NaN</td>\n",
       "      <td>0</td>\n",
       "      <td>NaN</td>\n",
       "    </tr>\n",
       "    <tr>\n",
       "      <th>4</th>\n",
       "      <td>4e748183-cbe8-4b14-aa52-baaed9129fe3</td>\n",
       "      <td>2025-01-06 11:46:13</td>\n",
       "      <td>jeux 10e</td>\n",
       "      <td>2</td>\n",
       "      <td>10.0</td>\n",
       "      <td>76650</td>\n",
       "      <td>a021811c-56f0-489f-a32a-98b18039a57e</td>\n",
       "    </tr>\n",
       "  </tbody>\n",
       "</table>\n",
       "</div>"
      ],
      "text/plain": [
       "                              receiptId                date  itemName  \\\n",
       "0  4cf842bc-28ee-420b-9d7c-be3f57046099                 NaT       NaN   \n",
       "1  f7e841a5-0e92-4291-ab7e-d17fa38ed17b                 NaT       NaN   \n",
       "2  277ab13e-d7fb-4949-b15e-a3912954583e                 NaT       NaN   \n",
       "3  7aba0a49-4f06-4659-baa5-2995c7db8de0                 NaT       NaN   \n",
       "4  4e748183-cbe8-4b14-aa52-baaed9129fe3 2025-01-06 11:46:13  jeux 10e   \n",
       "\n",
       "   quantity  unit_price  postalCode                               storeId  \n",
       "0         1         NaN           0                                   NaN  \n",
       "1         1         NaN           0                                   NaN  \n",
       "2         1         NaN           0                                   NaN  \n",
       "3         1         NaN           0                                   NaN  \n",
       "4         2        10.0       76650  a021811c-56f0-489f-a32a-98b18039a57e  "
      ]
     },
     "execution_count": 12,
     "metadata": {},
     "output_type": "execute_result"
    }
   ],
   "source": [
    "# Correction du type de la colonne 'quantity' et postalCode' en int64 en remplaçant les NaN par 0\n",
    "data_main[['quantity', 'postalCode']] = data_main[['quantity', 'postalCode']].fillna(0).astype(np.int64)\n",
    "\n",
    "# Vérification des deux colonnes en affichant à nouveau les 5 premières lignes du dataframe data_main\n",
    "data_main.head()"
   ]
  },
  {
   "cell_type": "markdown",
   "id": "098d915a-442f-45e3-a533-7625f3715aaa",
   "metadata": {},
   "source": [
    "#### Correction du type de <font color=\"red\"> 'quantity' <font color=\"black\"> et <font color=\"red\"> 'postalCode' <font color=\"black\"> a été accomplie."
   ]
  },
  {
   "cell_type": "markdown",
   "id": "b56b0147-8c31-4ec1-bf2b-6b5ddae15f70",
   "metadata": {},
   "source": [
    "### <font color=\"green\"> III. LA BOISSON CONSOMMEE"
   ]
  },
  {
   "cell_type": "markdown",
   "id": "9ed4f4bc-4836-4e1d-a98a-2bd3beb24103",
   "metadata": {},
   "source": [
    "Lien pour voir le top 15 des boissons les plus achetées en 2024: https://www.larepubliquedespyrenees.fr/societe/conso/consommation-cristaline-coca-cola-redbull-decouvrez-les-produits-les-plus-vendus-dans-les-supermarches-en-france-en-2024-23060239.php"
   ]
  },
  {
   "cell_type": "markdown",
   "id": "c2f18c2f-de5c-4576-8876-fae7dfb52203",
   "metadata": {},
   "source": [
    "##### <font color=\"green\"> CREATION D'UNE LISTE DE BOISSONS SELON LE TOP 15 2024"
   ]
  },
  {
   "cell_type": "code",
   "execution_count": 13,
   "id": "c81b1d8c-8c21-47c1-a716-5edc6d7e2159",
   "metadata": {},
   "outputs": [],
   "source": [
    "# liste des boissons dont la majorité constitue le top 15 acheté\n",
    "drink_list=[\n",
    "    'coca','coca-cola','volvic','redbull','cristaline','heineken',\n",
    "    'badoit','bavaria','oasis','oasis tropical','orangina','sprite'\n",
    "]"
   ]
  },
  {
   "cell_type": "markdown",
   "id": "89ad9a58-04a1-42fb-84e4-0ec74c4cfda9",
   "metadata": {},
   "source": [
    "#### NB: J'ai ajouté <font color=\"red\"> orangina <font color=\"black\"> et <font color=\"red\">sprite <font color=\"black\"> par intuition à la vraie vie"
   ]
  },
  {
   "cell_type": "markdown",
   "id": "45696cc8-4b45-45ba-ab78-ff0a88620358",
   "metadata": {},
   "source": [
    "##### <font color=\"green\"> VERIFICATION DES BOISSONS PRESENTES DANS NOTRE TABLE"
   ]
  },
  {
   "cell_type": "code",
   "execution_count": 14,
   "id": "9ad9ce21-de33-49b3-92c1-68e7cb43bb8c",
   "metadata": {},
   "outputs": [
    {
     "name": "stdout",
     "output_type": "stream",
     "text": [
      "coca (présent)\n",
      "coca-cola (présent)\n",
      "volvic (présent)\n",
      "redbull (présent)\n",
      "cristaline (présent)\n",
      "heineken (présent)\n",
      "badoit (présent)\n",
      "bavaria (présent)\n",
      "oasis (présent)\n",
      "oasis tropical (présent)\n",
      "orangina (présent)\n",
      "sprite (présent)\n"
     ]
    }
   ],
   "source": [
    "# Vérifier la présence des boissons dans la colonne 'itemName'\n",
    "for x in drink_list:\n",
    "    if x in data_main['itemName'].values:\n",
    "        print(f'{x} (présent)')\n",
    "    else:\n",
    "        print(f'{x} (absent)')"
   ]
  },
  {
   "cell_type": "markdown",
   "id": "0f2fd64e-cebb-4a0e-ae41-065124a8b9b4",
   "metadata": {},
   "source": [
    "#### Toutes les boissons sont présentes. <font color=\"red\"> Coca <font color=\"black\"> étant <font color=\"red\"> coca-cola<font color=\"black\"> , je le remplacerai par <font color=\"red\"> coca-cola<font color=\"black\"> . <font color=\"red\"> Oasis <font color=\"black\"> étant <font color=\"red\"> oasis tropical<font color=\"black\">  je le remplacerai par <font color=\"red\"> oasis tropical<font color=\"black\"> . <font color=\"red\">Je suppose que nous avons ces différences dû à l'appellation de chaque magasin."
   ]
  },
  {
   "cell_type": "markdown",
   "id": "84be1c87-3c79-46c9-9c92-59746fc8ae9b",
   "metadata": {},
   "source": [
    "##### <font color=\"green\"> CREATION D'UN DATAFRAME AVEC CES BOISSONS DU TOP 15"
   ]
  },
  {
   "cell_type": "code",
   "execution_count": 15,
   "id": "1b834099-9131-49b6-845f-d832fe590380",
   "metadata": {},
   "outputs": [
    {
     "data": {
      "text/html": [
       "<div>\n",
       "<style scoped>\n",
       "    .dataframe tbody tr th:only-of-type {\n",
       "        vertical-align: middle;\n",
       "    }\n",
       "\n",
       "    .dataframe tbody tr th {\n",
       "        vertical-align: top;\n",
       "    }\n",
       "\n",
       "    .dataframe thead th {\n",
       "        text-align: right;\n",
       "    }\n",
       "</style>\n",
       "<table border=\"1\" class=\"dataframe\">\n",
       "  <thead>\n",
       "    <tr style=\"text-align: right;\">\n",
       "      <th></th>\n",
       "      <th>receiptId</th>\n",
       "      <th>date</th>\n",
       "      <th>itemName</th>\n",
       "      <th>quantity</th>\n",
       "      <th>unit_price</th>\n",
       "      <th>postalCode</th>\n",
       "      <th>storeId</th>\n",
       "    </tr>\n",
       "  </thead>\n",
       "  <tbody>\n",
       "    <tr>\n",
       "      <th>111</th>\n",
       "      <td>486aa07e-4391-4912-8d08-f38edbfdd0e2</td>\n",
       "      <td>NaT</td>\n",
       "      <td>orangina</td>\n",
       "      <td>1</td>\n",
       "      <td>3.9</td>\n",
       "      <td>37500</td>\n",
       "      <td>2e4fb6fa-bcd5-41f1-b1d9-fada8b680f45</td>\n",
       "    </tr>\n",
       "    <tr>\n",
       "      <th>117</th>\n",
       "      <td>8b9a1465-cb47-4e94-8e15-3c54d30847dd</td>\n",
       "      <td>NaT</td>\n",
       "      <td>heineken</td>\n",
       "      <td>1</td>\n",
       "      <td>2.5</td>\n",
       "      <td>6340</td>\n",
       "      <td>774dc255-f8fe-4d5c-a503-9509cbd0f271</td>\n",
       "    </tr>\n",
       "    <tr>\n",
       "      <th>375</th>\n",
       "      <td>2691532e-4cf1-49dc-a3c0-23d8447cd1f8</td>\n",
       "      <td>NaT</td>\n",
       "      <td>coca</td>\n",
       "      <td>1</td>\n",
       "      <td>1.0</td>\n",
       "      <td>97427</td>\n",
       "      <td>1faca27a-75d8-4432-a93c-c1e924922ca8</td>\n",
       "    </tr>\n",
       "    <tr>\n",
       "      <th>1874</th>\n",
       "      <td>a0215df0-9e24-4d84-9be2-a9cef03999d4</td>\n",
       "      <td>NaT</td>\n",
       "      <td>coca</td>\n",
       "      <td>1</td>\n",
       "      <td>2.0</td>\n",
       "      <td>58190</td>\n",
       "      <td>c1e92373-edaa-44d0-8ef2-645a0071ebf2</td>\n",
       "    </tr>\n",
       "    <tr>\n",
       "      <th>3470</th>\n",
       "      <td>129fee9d-9e48-4707-b057-0a43a014af90</td>\n",
       "      <td>NaT</td>\n",
       "      <td>coca</td>\n",
       "      <td>2</td>\n",
       "      <td>3.0</td>\n",
       "      <td>0</td>\n",
       "      <td>acb061b5-f806-403c-a8f3-700023bb7b0d</td>\n",
       "    </tr>\n",
       "  </tbody>\n",
       "</table>\n",
       "</div>"
      ],
      "text/plain": [
       "                                 receiptId date  itemName  quantity  \\\n",
       "111   486aa07e-4391-4912-8d08-f38edbfdd0e2  NaT  orangina         1   \n",
       "117   8b9a1465-cb47-4e94-8e15-3c54d30847dd  NaT  heineken         1   \n",
       "375   2691532e-4cf1-49dc-a3c0-23d8447cd1f8  NaT      coca         1   \n",
       "1874  a0215df0-9e24-4d84-9be2-a9cef03999d4  NaT      coca         1   \n",
       "3470  129fee9d-9e48-4707-b057-0a43a014af90  NaT      coca         2   \n",
       "\n",
       "      unit_price  postalCode                               storeId  \n",
       "111          3.9       37500  2e4fb6fa-bcd5-41f1-b1d9-fada8b680f45  \n",
       "117          2.5        6340  774dc255-f8fe-4d5c-a503-9509cbd0f271  \n",
       "375          1.0       97427  1faca27a-75d8-4432-a93c-c1e924922ca8  \n",
       "1874         2.0       58190  c1e92373-edaa-44d0-8ef2-645a0071ebf2  \n",
       "3470         3.0           0  acb061b5-f806-403c-a8f3-700023bb7b0d  "
      ]
     },
     "execution_count": 15,
     "metadata": {},
     "output_type": "execute_result"
    }
   ],
   "source": [
    "# Création du Dataframe 'data_boissons'\n",
    "data_boissons= data_main[data_main['itemName'].isin(drink_list)]\n",
    "\n",
    "# Affichage des 5 premières lignes du dataframe data_boissons\n",
    "data_boissons.head()"
   ]
  },
  {
   "cell_type": "code",
   "execution_count": 16,
   "id": "aad0920f-9c19-4914-833b-8b05bca849e0",
   "metadata": {},
   "outputs": [
    {
     "data": {
      "text/plain": [
       "array(['orangina', 'heineken', 'coca-cola', 'cristaline',\n",
       "       'oasis tropical', 'badoit', 'sprite', 'redbull', 'bavaria',\n",
       "       'volvic'], dtype=object)"
      ]
     },
     "execution_count": 16,
     "metadata": {},
     "output_type": "execute_result"
    }
   ],
   "source": [
    "# Remplacer coca par coca-cola dans la colonne 'itemName'\n",
    "data_boissons.loc[data_boissons['itemName'] == 'coca', 'itemName'] = 'coca-cola'\n",
    "\n",
    "# Remplacer oasis par oasis tropical dans la colonne 'itemName'\n",
    "data_boissons.loc[data_boissons['itemName'] == 'oasis', 'itemName'] = 'oasis tropical'\n",
    "\n",
    "# Vérification des valeurs uniques de la colonne 'itemName' de data_boissons\n",
    "data_boissons['itemName'].unique()"
   ]
  },
  {
   "cell_type": "markdown",
   "id": "41b0ae4d-69a1-4208-8210-2785ffb89c4c",
   "metadata": {},
   "source": [
    "#### Nous avons donc présentement <font color=\"red\"> 10 boissons <font color=\"black\"> dans cette colonne."
   ]
  },
  {
   "cell_type": "markdown",
   "id": "73ae40c8-8459-4a02-b8e4-3a99a0180625",
   "metadata": {},
   "source": [
    "##### <font color=\"green\"> CORRECTION DES CODES POSTAUX"
   ]
  },
  {
   "cell_type": "markdown",
   "id": "ae0da536-b1ac-49f6-a003-66c103c575a5",
   "metadata": {},
   "source": [
    "#### <font color=\"red\"> REMARQUE: <font color=\"black\"> Par vérification, les codes postaux en France sont <font color=\"red\">toujours de 5 chiffres<font color=\"black\">. Dans la colonne<font color=\"red\"> 'postalCode'<font color=\"black\"> nous avons remarqué qu'il y avait <font color=\"red\">des valeurs à 4 chiffres<font color=\"black\"> et ça ne voudrait pas dire que ce ne sont pas des codes postaux. Dans les sites du gouvernement où nous avons des fichiers csv contenant les codes postaux et les villes, il y a des codes postaux à 4 chiffres et c'est en rajoutant 0 avant tous les autres chiffres qu'on retrouve le nom de la ville quand on le tape sur le net. Et je l'ai fait.\n"
   ]
  },
  {
   "cell_type": "code",
   "execution_count": 17,
   "id": "79799d04-67ef-408b-93c5-e88e1887fde2",
   "metadata": {},
   "outputs": [],
   "source": [
    "# Compléter par 0 à gauches des codes postaux n'ayant pas 5 chiffres\n",
    "data_boissons = data_boissons.assign(\n",
    "    postalCode=lambda x: x['postalCode'].astype(str).str.zfill(5)\n",
    ")"
   ]
  },
  {
   "cell_type": "code",
   "execution_count": 18,
   "id": "1b729f5a-2353-4d23-a775-20490604b8c6",
   "metadata": {},
   "outputs": [
    {
     "data": {
      "text/html": [
       "<div>\n",
       "<style scoped>\n",
       "    .dataframe tbody tr th:only-of-type {\n",
       "        vertical-align: middle;\n",
       "    }\n",
       "\n",
       "    .dataframe tbody tr th {\n",
       "        vertical-align: top;\n",
       "    }\n",
       "\n",
       "    .dataframe thead th {\n",
       "        text-align: right;\n",
       "    }\n",
       "</style>\n",
       "<table border=\"1\" class=\"dataframe\">\n",
       "  <thead>\n",
       "    <tr style=\"text-align: right;\">\n",
       "      <th></th>\n",
       "      <th>receiptId</th>\n",
       "      <th>date</th>\n",
       "      <th>itemName</th>\n",
       "      <th>quantity</th>\n",
       "      <th>unit_price</th>\n",
       "      <th>postalCode</th>\n",
       "      <th>storeId</th>\n",
       "    </tr>\n",
       "  </thead>\n",
       "  <tbody>\n",
       "    <tr>\n",
       "      <th>111</th>\n",
       "      <td>486aa07e-4391-4912-8d08-f38edbfdd0e2</td>\n",
       "      <td>NaT</td>\n",
       "      <td>orangina</td>\n",
       "      <td>1</td>\n",
       "      <td>3.90</td>\n",
       "      <td>37500</td>\n",
       "      <td>2e4fb6fa-bcd5-41f1-b1d9-fada8b680f45</td>\n",
       "    </tr>\n",
       "    <tr>\n",
       "      <th>117</th>\n",
       "      <td>8b9a1465-cb47-4e94-8e15-3c54d30847dd</td>\n",
       "      <td>NaT</td>\n",
       "      <td>heineken</td>\n",
       "      <td>1</td>\n",
       "      <td>2.50</td>\n",
       "      <td>06340</td>\n",
       "      <td>774dc255-f8fe-4d5c-a503-9509cbd0f271</td>\n",
       "    </tr>\n",
       "    <tr>\n",
       "      <th>375</th>\n",
       "      <td>2691532e-4cf1-49dc-a3c0-23d8447cd1f8</td>\n",
       "      <td>NaT</td>\n",
       "      <td>coca-cola</td>\n",
       "      <td>1</td>\n",
       "      <td>1.00</td>\n",
       "      <td>97427</td>\n",
       "      <td>1faca27a-75d8-4432-a93c-c1e924922ca8</td>\n",
       "    </tr>\n",
       "    <tr>\n",
       "      <th>1874</th>\n",
       "      <td>a0215df0-9e24-4d84-9be2-a9cef03999d4</td>\n",
       "      <td>NaT</td>\n",
       "      <td>coca-cola</td>\n",
       "      <td>1</td>\n",
       "      <td>2.00</td>\n",
       "      <td>58190</td>\n",
       "      <td>c1e92373-edaa-44d0-8ef2-645a0071ebf2</td>\n",
       "    </tr>\n",
       "    <tr>\n",
       "      <th>3470</th>\n",
       "      <td>129fee9d-9e48-4707-b057-0a43a014af90</td>\n",
       "      <td>NaT</td>\n",
       "      <td>coca-cola</td>\n",
       "      <td>2</td>\n",
       "      <td>3.00</td>\n",
       "      <td>00000</td>\n",
       "      <td>acb061b5-f806-403c-a8f3-700023bb7b0d</td>\n",
       "    </tr>\n",
       "    <tr>\n",
       "      <th>...</th>\n",
       "      <td>...</td>\n",
       "      <td>...</td>\n",
       "      <td>...</td>\n",
       "      <td>...</td>\n",
       "      <td>...</td>\n",
       "      <td>...</td>\n",
       "      <td>...</td>\n",
       "    </tr>\n",
       "    <tr>\n",
       "      <th>993594</th>\n",
       "      <td>00416830-cdca-4ac9-8290-5200c4a5a0e1</td>\n",
       "      <td>NaT</td>\n",
       "      <td>orangina</td>\n",
       "      <td>1</td>\n",
       "      <td>3.00</td>\n",
       "      <td>00000</td>\n",
       "      <td>105dc646-c6ac-41e9-88b7-6d1e322fdafc</td>\n",
       "    </tr>\n",
       "    <tr>\n",
       "      <th>994684</th>\n",
       "      <td>b8e4a0ee-a40e-4a7c-bf08-94f314520a9b</td>\n",
       "      <td>NaT</td>\n",
       "      <td>coca-cola</td>\n",
       "      <td>1</td>\n",
       "      <td>0.00</td>\n",
       "      <td>06300</td>\n",
       "      <td>7f134915-e38f-4616-ae63-20e36c33548d</td>\n",
       "    </tr>\n",
       "    <tr>\n",
       "      <th>994723</th>\n",
       "      <td>cec517de-1827-40b3-ab15-5aeea60d4a68</td>\n",
       "      <td>NaT</td>\n",
       "      <td>orangina</td>\n",
       "      <td>2</td>\n",
       "      <td>4.50</td>\n",
       "      <td>69005</td>\n",
       "      <td>8c30d016-a340-4e7e-9d02-d94d53196575</td>\n",
       "    </tr>\n",
       "    <tr>\n",
       "      <th>997793</th>\n",
       "      <td>329f0320-3b46-464e-8dfe-212559a66b58</td>\n",
       "      <td>NaT</td>\n",
       "      <td>coca-cola</td>\n",
       "      <td>2</td>\n",
       "      <td>2.78</td>\n",
       "      <td>33000</td>\n",
       "      <td>48e37607-8a22-4b7e-a80a-29f72f298d24</td>\n",
       "    </tr>\n",
       "    <tr>\n",
       "      <th>999101</th>\n",
       "      <td>1ec4849d-9644-4af3-a391-7baf35bd8295</td>\n",
       "      <td>NaT</td>\n",
       "      <td>orangina</td>\n",
       "      <td>1</td>\n",
       "      <td>4.50</td>\n",
       "      <td>74400</td>\n",
       "      <td>33108e38-8a85-4381-9448-4ad1639dd41a</td>\n",
       "    </tr>\n",
       "  </tbody>\n",
       "</table>\n",
       "<p>710 rows × 7 columns</p>\n",
       "</div>"
      ],
      "text/plain": [
       "                                   receiptId date   itemName  quantity  \\\n",
       "111     486aa07e-4391-4912-8d08-f38edbfdd0e2  NaT   orangina         1   \n",
       "117     8b9a1465-cb47-4e94-8e15-3c54d30847dd  NaT   heineken         1   \n",
       "375     2691532e-4cf1-49dc-a3c0-23d8447cd1f8  NaT  coca-cola         1   \n",
       "1874    a0215df0-9e24-4d84-9be2-a9cef03999d4  NaT  coca-cola         1   \n",
       "3470    129fee9d-9e48-4707-b057-0a43a014af90  NaT  coca-cola         2   \n",
       "...                                      ...  ...        ...       ...   \n",
       "993594  00416830-cdca-4ac9-8290-5200c4a5a0e1  NaT   orangina         1   \n",
       "994684  b8e4a0ee-a40e-4a7c-bf08-94f314520a9b  NaT  coca-cola         1   \n",
       "994723  cec517de-1827-40b3-ab15-5aeea60d4a68  NaT   orangina         2   \n",
       "997793  329f0320-3b46-464e-8dfe-212559a66b58  NaT  coca-cola         2   \n",
       "999101  1ec4849d-9644-4af3-a391-7baf35bd8295  NaT   orangina         1   \n",
       "\n",
       "        unit_price postalCode                               storeId  \n",
       "111           3.90      37500  2e4fb6fa-bcd5-41f1-b1d9-fada8b680f45  \n",
       "117           2.50      06340  774dc255-f8fe-4d5c-a503-9509cbd0f271  \n",
       "375           1.00      97427  1faca27a-75d8-4432-a93c-c1e924922ca8  \n",
       "1874          2.00      58190  c1e92373-edaa-44d0-8ef2-645a0071ebf2  \n",
       "3470          3.00      00000  acb061b5-f806-403c-a8f3-700023bb7b0d  \n",
       "...            ...        ...                                   ...  \n",
       "993594        3.00      00000  105dc646-c6ac-41e9-88b7-6d1e322fdafc  \n",
       "994684        0.00      06300  7f134915-e38f-4616-ae63-20e36c33548d  \n",
       "994723        4.50      69005  8c30d016-a340-4e7e-9d02-d94d53196575  \n",
       "997793        2.78      33000  48e37607-8a22-4b7e-a80a-29f72f298d24  \n",
       "999101        4.50      74400  33108e38-8a85-4381-9448-4ad1639dd41a  \n",
       "\n",
       "[710 rows x 7 columns]"
      ]
     },
     "execution_count": 18,
     "metadata": {},
     "output_type": "execute_result"
    }
   ],
   "source": [
    "# Afficher le dataframe pour vérifier\n",
    "data_boissons"
   ]
  },
  {
   "cell_type": "markdown",
   "id": "f62dd1e1-d172-486d-ba37-d5210e31b776",
   "metadata": {},
   "source": [
    "#### Après vérificattion, on remarque que tous les codes postaux sont maintenant à <font color=\"red\">5 chiffres<font color=\"black\">. Donc c'est correct."
   ]
  },
  {
   "cell_type": "markdown",
   "id": "4f127496-9374-4b84-81bb-ed1389501ff0",
   "metadata": {},
   "source": [
    "##### <font color=\"green\"> CHARGEMENT DE DONNEES CODE POSTAUX ET VILLES"
   ]
  },
  {
   "cell_type": "markdown",
   "id": "e928fef7-cf6c-45a7-bf01-0e83b0cc36aa",
   "metadata": {},
   "source": [
    "liens vers le dataset téléchargé: https://www.data.gouv.fr/fr/datasets/base-officielle-des-codes-postaux/#/community-resources"
   ]
  },
  {
   "cell_type": "code",
   "execution_count": 19,
   "id": "98a77218-fe78-4d8d-b50e-820fd7308df3",
   "metadata": {},
   "outputs": [
    {
     "data": {
      "text/html": [
       "<div>\n",
       "<style scoped>\n",
       "    .dataframe tbody tr th:only-of-type {\n",
       "        vertical-align: middle;\n",
       "    }\n",
       "\n",
       "    .dataframe tbody tr th {\n",
       "        vertical-align: top;\n",
       "    }\n",
       "\n",
       "    .dataframe thead th {\n",
       "        text-align: right;\n",
       "    }\n",
       "</style>\n",
       "<table border=\"1\" class=\"dataframe\">\n",
       "  <thead>\n",
       "    <tr style=\"text-align: right;\">\n",
       "      <th></th>\n",
       "      <th>postal_code</th>\n",
       "      <th>city</th>\n",
       "    </tr>\n",
       "  </thead>\n",
       "  <tbody>\n",
       "    <tr>\n",
       "      <th>0</th>\n",
       "      <td>1400</td>\n",
       "      <td>L ABERGEMENT CLEMENCIAT</td>\n",
       "    </tr>\n",
       "    <tr>\n",
       "      <th>1</th>\n",
       "      <td>1640</td>\n",
       "      <td>L ABERGEMENT DE VAREY</td>\n",
       "    </tr>\n",
       "    <tr>\n",
       "      <th>2</th>\n",
       "      <td>1500</td>\n",
       "      <td>AMBERIEU EN BUGEY</td>\n",
       "    </tr>\n",
       "    <tr>\n",
       "      <th>3</th>\n",
       "      <td>1330</td>\n",
       "      <td>AMBERIEUX EN DOMBES</td>\n",
       "    </tr>\n",
       "    <tr>\n",
       "      <th>4</th>\n",
       "      <td>1300</td>\n",
       "      <td>AMBLEON</td>\n",
       "    </tr>\n",
       "  </tbody>\n",
       "</table>\n",
       "</div>"
      ],
      "text/plain": [
       "   postal_code                     city\n",
       "0         1400  L ABERGEMENT CLEMENCIAT\n",
       "1         1640    L ABERGEMENT DE VAREY\n",
       "2         1500        AMBERIEU EN BUGEY\n",
       "3         1330      AMBERIEUX EN DOMBES\n",
       "4         1300                  AMBLEON"
      ]
     },
     "execution_count": 19,
     "metadata": {},
     "output_type": "execute_result"
    }
   ],
   "source": [
    "# Afficher le dataframe d'une table 'code postal' et 'ville'\n",
    "data_cod_city=pd.read_csv('code postal .csv', sep=';')\n",
    "\n",
    "# Affichage des 5 premières lignes\n",
    "data_cod_city.head()"
   ]
  },
  {
   "cell_type": "code",
   "execution_count": 20,
   "id": "b8a60dcb-0f76-41a5-9a93-84cabb5f35c6",
   "metadata": {},
   "outputs": [
    {
     "data": {
      "text/plain": [
       "postal_code     int64\n",
       "city           object\n",
       "dtype: object"
      ]
     },
     "execution_count": 20,
     "metadata": {},
     "output_type": "execute_result"
    }
   ],
   "source": [
    "# Vérification du type des colonnes \n",
    "data_cod_city.dtypes"
   ]
  },
  {
   "cell_type": "markdown",
   "id": "9673d718-64c9-40dd-a981-888b164bfc8c",
   "metadata": {},
   "source": [
    "#### <font color=\"black\"> Puisque dans ces données de codes postaux et de villes il y a des notations des codes postaux à <font color=\"red\">4 chiffres<font color=\"black\"> il faudrait les compléter avec<font color=\"red\"> 0<font color=\"black\"> pour que ça fasse <font color=\"red\">5 chiffres<font color=\"black\">, car le code postal de France doit toujours avoir <font color=\"red\">5 chiffres<font color=\"black\">."
   ]
  },
  {
   "cell_type": "markdown",
   "id": "acd70320-6eff-4484-a826-675ae4681fe0",
   "metadata": {},
   "source": [
    "##### <font color=\"green\"> JOINTURE GAUCHE DES DONNEES CODES POSTAUX ET VILLES AVEC DATA_BOISSONS"
   ]
  },
  {
   "cell_type": "markdown",
   "id": "919c4738-7dde-4c5d-8ca2-655238114ff3",
   "metadata": {},
   "source": [
    "ON DOIT RAMENER 'postal_code' AU MEME TYPE QUE 'postalCode' POUR EFFECTUER LA JOINTURE"
   ]
  },
  {
   "cell_type": "code",
   "execution_count": 21,
   "id": "0005af24-6282-4647-b9c4-3dae09c29fa6",
   "metadata": {},
   "outputs": [],
   "source": [
    "# Convertir 'postal_code' en chaîne de caractères car 'postalCode' est en chaîne de caractères \n",
    "data_cod_city['postal_code'] = data_cod_city['postal_code'].astype(str).str.zfill(5)"
   ]
  },
  {
   "cell_type": "code",
   "execution_count": 22,
   "id": "c78ca725-d9fa-4946-ba38-f1aaedce3d6f",
   "metadata": {},
   "outputs": [],
   "source": [
    "# Jointures avec 'data_cod_city' pour avoir les villes dans notre data\n",
    "data_complete= data_boissons.merge(data_cod_city, left_on=\"postalCode\", right_on=\"postal_code\", how=\"left\")"
   ]
  },
  {
   "cell_type": "code",
   "execution_count": 23,
   "id": "c74b8580-dbb8-4059-afd8-05aa47fc30e0",
   "metadata": {},
   "outputs": [
    {
     "data": {
      "text/html": [
       "<div>\n",
       "<style scoped>\n",
       "    .dataframe tbody tr th:only-of-type {\n",
       "        vertical-align: middle;\n",
       "    }\n",
       "\n",
       "    .dataframe tbody tr th {\n",
       "        vertical-align: top;\n",
       "    }\n",
       "\n",
       "    .dataframe thead th {\n",
       "        text-align: right;\n",
       "    }\n",
       "</style>\n",
       "<table border=\"1\" class=\"dataframe\">\n",
       "  <thead>\n",
       "    <tr style=\"text-align: right;\">\n",
       "      <th></th>\n",
       "      <th>receiptId</th>\n",
       "      <th>date</th>\n",
       "      <th>itemName</th>\n",
       "      <th>quantity</th>\n",
       "      <th>unit_price</th>\n",
       "      <th>postalCode</th>\n",
       "      <th>storeId</th>\n",
       "      <th>postal_code</th>\n",
       "      <th>city</th>\n",
       "    </tr>\n",
       "  </thead>\n",
       "  <tbody>\n",
       "    <tr>\n",
       "      <th>0</th>\n",
       "      <td>486aa07e-4391-4912-8d08-f38edbfdd0e2</td>\n",
       "      <td>NaT</td>\n",
       "      <td>orangina</td>\n",
       "      <td>1</td>\n",
       "      <td>3.9</td>\n",
       "      <td>37500</td>\n",
       "      <td>2e4fb6fa-bcd5-41f1-b1d9-fada8b680f45</td>\n",
       "      <td>37500</td>\n",
       "      <td>ANCHE</td>\n",
       "    </tr>\n",
       "    <tr>\n",
       "      <th>1</th>\n",
       "      <td>486aa07e-4391-4912-8d08-f38edbfdd0e2</td>\n",
       "      <td>NaT</td>\n",
       "      <td>orangina</td>\n",
       "      <td>1</td>\n",
       "      <td>3.9</td>\n",
       "      <td>37500</td>\n",
       "      <td>2e4fb6fa-bcd5-41f1-b1d9-fada8b680f45</td>\n",
       "      <td>37500</td>\n",
       "      <td>CANDES ST MARTIN</td>\n",
       "    </tr>\n",
       "    <tr>\n",
       "      <th>2</th>\n",
       "      <td>486aa07e-4391-4912-8d08-f38edbfdd0e2</td>\n",
       "      <td>NaT</td>\n",
       "      <td>orangina</td>\n",
       "      <td>1</td>\n",
       "      <td>3.9</td>\n",
       "      <td>37500</td>\n",
       "      <td>2e4fb6fa-bcd5-41f1-b1d9-fada8b680f45</td>\n",
       "      <td>37500</td>\n",
       "      <td>CHINON</td>\n",
       "    </tr>\n",
       "    <tr>\n",
       "      <th>3</th>\n",
       "      <td>486aa07e-4391-4912-8d08-f38edbfdd0e2</td>\n",
       "      <td>NaT</td>\n",
       "      <td>orangina</td>\n",
       "      <td>1</td>\n",
       "      <td>3.9</td>\n",
       "      <td>37500</td>\n",
       "      <td>2e4fb6fa-bcd5-41f1-b1d9-fada8b680f45</td>\n",
       "      <td>37500</td>\n",
       "      <td>CINAIS</td>\n",
       "    </tr>\n",
       "    <tr>\n",
       "      <th>4</th>\n",
       "      <td>486aa07e-4391-4912-8d08-f38edbfdd0e2</td>\n",
       "      <td>NaT</td>\n",
       "      <td>orangina</td>\n",
       "      <td>1</td>\n",
       "      <td>3.9</td>\n",
       "      <td>37500</td>\n",
       "      <td>2e4fb6fa-bcd5-41f1-b1d9-fada8b680f45</td>\n",
       "      <td>37500</td>\n",
       "      <td>COUZIERS</td>\n",
       "    </tr>\n",
       "  </tbody>\n",
       "</table>\n",
       "</div>"
      ],
      "text/plain": [
       "                              receiptId date  itemName  quantity  unit_price  \\\n",
       "0  486aa07e-4391-4912-8d08-f38edbfdd0e2  NaT  orangina         1         3.9   \n",
       "1  486aa07e-4391-4912-8d08-f38edbfdd0e2  NaT  orangina         1         3.9   \n",
       "2  486aa07e-4391-4912-8d08-f38edbfdd0e2  NaT  orangina         1         3.9   \n",
       "3  486aa07e-4391-4912-8d08-f38edbfdd0e2  NaT  orangina         1         3.9   \n",
       "4  486aa07e-4391-4912-8d08-f38edbfdd0e2  NaT  orangina         1         3.9   \n",
       "\n",
       "  postalCode                               storeId postal_code  \\\n",
       "0      37500  2e4fb6fa-bcd5-41f1-b1d9-fada8b680f45       37500   \n",
       "1      37500  2e4fb6fa-bcd5-41f1-b1d9-fada8b680f45       37500   \n",
       "2      37500  2e4fb6fa-bcd5-41f1-b1d9-fada8b680f45       37500   \n",
       "3      37500  2e4fb6fa-bcd5-41f1-b1d9-fada8b680f45       37500   \n",
       "4      37500  2e4fb6fa-bcd5-41f1-b1d9-fada8b680f45       37500   \n",
       "\n",
       "               city  \n",
       "0             ANCHE  \n",
       "1  CANDES ST MARTIN  \n",
       "2            CHINON  \n",
       "3            CINAIS  \n",
       "4          COUZIERS  "
      ]
     },
     "execution_count": 23,
     "metadata": {},
     "output_type": "execute_result"
    }
   ],
   "source": [
    "# Afficher les 5 premières lignes de data_complete\n",
    "data_complete.head()"
   ]
  },
  {
   "cell_type": "code",
   "execution_count": 24,
   "id": "0ef6c03b-0320-4e72-9efe-0de7440e72fe",
   "metadata": {},
   "outputs": [],
   "source": [
    "# Suppression de la colonne 'code postal' elle ne nous sert pas\n",
    "data_complete = data_complete.drop('postal_code', axis=1)"
   ]
  },
  {
   "cell_type": "markdown",
   "id": "ffd79fc7-b5ef-4331-8345-33f15e1fa835",
   "metadata": {},
   "source": [
    "#### <font color=\"red\">REMARQUE: <font color=\"black\">Puisqu'on doit faire des visualisations et voir la boisson les boissons les plus consommées on doit vérifier la colonne <font color=\"red\">'quantity'<font color=\"black\"> pour voir les quantités d'achats des boissons."
   ]
  },
  {
   "cell_type": "code",
   "execution_count": 26,
   "id": "8975f974-a3b7-4ad9-b066-8269e8cf815f",
   "metadata": {},
   "outputs": [
    {
     "data": {
      "text/plain": [
       "array([ 1,  2, 10,  3,  5,  4, 13, -2, -1])"
      ]
     },
     "execution_count": 26,
     "metadata": {},
     "output_type": "execute_result"
    }
   ],
   "source": [
    "# Valeur unique de la colonne 'quantity'\n",
    "data_complete['quantity'].unique()"
   ]
  },
  {
   "cell_type": "markdown",
   "id": "678b4915-5af1-4574-a15c-cc527259926b",
   "metadata": {},
   "source": [
    "#### On peut remarquer que la colonne<font color=\"red\"> 'quantity'<font color=\"black\"> a des valeurs négatives et c'est quelque <font color=\"red\">chose d'anormale<font color=\"black\">, car la quantité est toujours positive. Et donc on partira sur notre aanalyse avec des <font color=\"red\">valeurs > 0 et non pas >=0<font color=\"black\">, car nous déduisons qu'on reçoit un reçu quand nous avons effectué un achat, et cette déduction est basée sur le <font color=\"red\">contexte<font color=\"black\">."
   ]
  },
  {
   "cell_type": "code",
   "execution_count": 27,
   "id": "17cebd09-4d8f-4956-97c6-1e7c65f87450",
   "metadata": {},
   "outputs": [],
   "source": [
    "# Mis à jour de data_complete avec les quantités > 0\n",
    "data_complete=data_complete[data_complete['quantity']>0]"
   ]
  },
  {
   "cell_type": "code",
   "execution_count": 29,
   "id": "12e0b673-ba07-4ff9-80fb-93560d65f48c",
   "metadata": {},
   "outputs": [
    {
     "data": {
      "text/plain": [
       "array([ 1,  2, 10,  3,  5,  4, 13])"
      ]
     },
     "execution_count": 29,
     "metadata": {},
     "output_type": "execute_result"
    }
   ],
   "source": [
    "# Vérification des valeurs uniques de la colonne 'quantity'\n",
    "data_complete['quantity'].unique()"
   ]
  },
  {
   "cell_type": "markdown",
   "id": "2c2291d5-4cc7-4d89-a2ef-d14ecad80b46",
   "metadata": {},
   "source": [
    "#### On peut remarquer que nous n'avons plus de <font color=\"red\">0<font color=\"black\"> et de valeurs négatives."
   ]
  },
  {
   "cell_type": "code",
   "execution_count": 31,
   "id": "b24d3919-ba32-40ac-8689-b3fb51c5b910",
   "metadata": {},
   "outputs": [
    {
     "data": {
      "text/html": [
       "<div>\n",
       "<style scoped>\n",
       "    .dataframe tbody tr th:only-of-type {\n",
       "        vertical-align: middle;\n",
       "    }\n",
       "\n",
       "    .dataframe tbody tr th {\n",
       "        vertical-align: top;\n",
       "    }\n",
       "\n",
       "    .dataframe thead th {\n",
       "        text-align: right;\n",
       "    }\n",
       "</style>\n",
       "<table border=\"1\" class=\"dataframe\">\n",
       "  <thead>\n",
       "    <tr style=\"text-align: right;\">\n",
       "      <th></th>\n",
       "      <th>receiptId</th>\n",
       "      <th>date</th>\n",
       "      <th>itemName</th>\n",
       "      <th>quantity</th>\n",
       "      <th>unit_price</th>\n",
       "      <th>postalCode</th>\n",
       "      <th>storeId</th>\n",
       "      <th>city</th>\n",
       "    </tr>\n",
       "  </thead>\n",
       "  <tbody>\n",
       "    <tr>\n",
       "      <th>0</th>\n",
       "      <td>486aa07e-4391-4912-8d08-f38edbfdd0e2</td>\n",
       "      <td>NaT</td>\n",
       "      <td>orangina</td>\n",
       "      <td>1</td>\n",
       "      <td>3.9</td>\n",
       "      <td>37500</td>\n",
       "      <td>2e4fb6fa-bcd5-41f1-b1d9-fada8b680f45</td>\n",
       "      <td>ANCHE</td>\n",
       "    </tr>\n",
       "    <tr>\n",
       "      <th>1</th>\n",
       "      <td>486aa07e-4391-4912-8d08-f38edbfdd0e2</td>\n",
       "      <td>NaT</td>\n",
       "      <td>orangina</td>\n",
       "      <td>1</td>\n",
       "      <td>3.9</td>\n",
       "      <td>37500</td>\n",
       "      <td>2e4fb6fa-bcd5-41f1-b1d9-fada8b680f45</td>\n",
       "      <td>CANDES ST MARTIN</td>\n",
       "    </tr>\n",
       "    <tr>\n",
       "      <th>2</th>\n",
       "      <td>486aa07e-4391-4912-8d08-f38edbfdd0e2</td>\n",
       "      <td>NaT</td>\n",
       "      <td>orangina</td>\n",
       "      <td>1</td>\n",
       "      <td>3.9</td>\n",
       "      <td>37500</td>\n",
       "      <td>2e4fb6fa-bcd5-41f1-b1d9-fada8b680f45</td>\n",
       "      <td>CHINON</td>\n",
       "    </tr>\n",
       "    <tr>\n",
       "      <th>3</th>\n",
       "      <td>486aa07e-4391-4912-8d08-f38edbfdd0e2</td>\n",
       "      <td>NaT</td>\n",
       "      <td>orangina</td>\n",
       "      <td>1</td>\n",
       "      <td>3.9</td>\n",
       "      <td>37500</td>\n",
       "      <td>2e4fb6fa-bcd5-41f1-b1d9-fada8b680f45</td>\n",
       "      <td>CINAIS</td>\n",
       "    </tr>\n",
       "    <tr>\n",
       "      <th>4</th>\n",
       "      <td>486aa07e-4391-4912-8d08-f38edbfdd0e2</td>\n",
       "      <td>NaT</td>\n",
       "      <td>orangina</td>\n",
       "      <td>1</td>\n",
       "      <td>3.9</td>\n",
       "      <td>37500</td>\n",
       "      <td>2e4fb6fa-bcd5-41f1-b1d9-fada8b680f45</td>\n",
       "      <td>COUZIERS</td>\n",
       "    </tr>\n",
       "  </tbody>\n",
       "</table>\n",
       "</div>"
      ],
      "text/plain": [
       "                              receiptId date  itemName  quantity  unit_price  \\\n",
       "0  486aa07e-4391-4912-8d08-f38edbfdd0e2  NaT  orangina         1         3.9   \n",
       "1  486aa07e-4391-4912-8d08-f38edbfdd0e2  NaT  orangina         1         3.9   \n",
       "2  486aa07e-4391-4912-8d08-f38edbfdd0e2  NaT  orangina         1         3.9   \n",
       "3  486aa07e-4391-4912-8d08-f38edbfdd0e2  NaT  orangina         1         3.9   \n",
       "4  486aa07e-4391-4912-8d08-f38edbfdd0e2  NaT  orangina         1         3.9   \n",
       "\n",
       "  postalCode                               storeId              city  \n",
       "0      37500  2e4fb6fa-bcd5-41f1-b1d9-fada8b680f45             ANCHE  \n",
       "1      37500  2e4fb6fa-bcd5-41f1-b1d9-fada8b680f45  CANDES ST MARTIN  \n",
       "2      37500  2e4fb6fa-bcd5-41f1-b1d9-fada8b680f45            CHINON  \n",
       "3      37500  2e4fb6fa-bcd5-41f1-b1d9-fada8b680f45            CINAIS  \n",
       "4      37500  2e4fb6fa-bcd5-41f1-b1d9-fada8b680f45          COUZIERS  "
      ]
     },
     "execution_count": 31,
     "metadata": {},
     "output_type": "execute_result"
    }
   ],
   "source": [
    "# Afficher les 5 premières lignes de data_complete\n",
    "data_complete.head()"
   ]
  },
  {
   "cell_type": "markdown",
   "id": "37a4096f-41af-48d7-a742-df8ffa16f477",
   "metadata": {},
   "source": [
    "### <font color=\"green\"> IV. VISUALISATIONS GRAPHIQUES"
   ]
  },
  {
   "cell_type": "markdown",
   "id": "c1653b03-5514-49b8-8e65-98d3652e6c86",
   "metadata": {},
   "source": [
    "##### <font color=\"green\"> LES BOISSONS LES PLUS CONSOMMEES EN FRANCE SELON NOS DONNEES"
   ]
  },
  {
   "cell_type": "code",
   "execution_count": 32,
   "id": "60e155ee-6421-46a6-839c-3fadfd83f0ee",
   "metadata": {},
   "outputs": [
    {
     "name": "stdout",
     "output_type": "stream",
     "text": [
      "<class 'pandas.core.frame.DataFrame'>\n",
      "Index: 2640 entries, 0 to 2666\n",
      "Data columns (total 8 columns):\n",
      " #   Column      Non-Null Count  Dtype         \n",
      "---  ------      --------------  -----         \n",
      " 0   receiptId   2640 non-null   object        \n",
      " 1   date        267 non-null    datetime64[ns]\n",
      " 2   itemName    2640 non-null   object        \n",
      " 3   quantity    2640 non-null   int64         \n",
      " 4   unit_price  2640 non-null   float64       \n",
      " 5   postalCode  2640 non-null   object        \n",
      " 6   storeId     2640 non-null   object        \n",
      " 7   city        2547 non-null   object        \n",
      "dtypes: datetime64[ns](1), float64(1), int64(1), object(5)\n",
      "memory usage: 185.6+ KB\n"
     ]
    }
   ],
   "source": [
    "# Vérification des valeurs manquantes sur chaque colonne\n",
    "data_complete.info()"
   ]
  },
  {
   "cell_type": "markdown",
   "id": "d99bd8ff-3aa5-48e3-86ad-d9ad5f911ba0",
   "metadata": {},
   "source": [
    "#### <font color=\"red\">Aucune valeur manquante<font color=\"black\"> sur la colonne <font color=\"red\">'quantity'<font color=\"black\"> et<font color=\"red\"> 'itemName' <font color=\"black\">et c'est une bonne nouvelle car elle nous donne la possibilité de les <font color=\"red\">visualiser graphiquement <font color=\"black\"> et de voir la plus la <font color=\"red\">boisson la plus consommée<font color=\"black\">."
   ]
  },
  {
   "cell_type": "code",
   "execution_count": 36,
   "id": "d0a2c20b-b63b-4b33-8fef-3105c756cbce",
   "metadata": {},
   "outputs": [
    {
     "data": {
      "image/png": "[encoded data removed]",
      "text/plain": [
       "<Figure size 1000x600 with 1 Axes>"
      ]
     },
     "metadata": {},
     "output_type": "display_data"
    }
   ],
   "source": [
    "# Grouper par itemName et faire la somme des quantités\n",
    "quantites = data_complete.groupby('itemName')['quantity'].sum().sort_values(ascending=False)\n",
    "\n",
    "# Création du diagramme en barres\n",
    "plt.figure(figsize=(10, 6))\n",
    "bars = plt.bar(quantites.index, quantites.values, color='green')\n",
    "\n",
    "# Ajouter les quantités au-dessus de chaque barre\n",
    "for bar in bars:\n",
    "    yval = bar.get_height()\n",
    "    plt.text(bar.get_x() + bar.get_width() / 2, yval + 0.1, int(yval),\n",
    "             ha='center', va='bottom', fontsize=10)\n",
    "\n",
    "# Ajouter des titres et labels\n",
    "plt.title('Quantité totale vendue par boisson', fontsize=14)\n",
    "plt.xlabel('Boisson')\n",
    "plt.ylabel('Quantité totale')\n",
    "plt.xticks(rotation=45)\n",
    "plt.tight_layout()\n",
    "\n",
    "# Afficher le graphique\n",
    "plt.show()"
   ]
  },
  {
   "cell_type": "markdown",
   "id": "f79dae02-ef41-4b15-8a44-a9945e2e20db",
   "metadata": {},
   "source": [
    "#### <font color=\"red\"> PREMIERE INFORMATION<font color=\"black\">: selon nos données les boissons les plus consommées en France sont:<font color=\"red\"> le coca-cola, l'orangina et l'heineken<font color=\"red\">."
   ]
  },
  {
   "cell_type": "markdown",
   "id": "f9ca2c38-6648-4e2d-a9ba-1b3d05d8b01e",
   "metadata": {},
   "source": [
    "##### <font color=\"green\"> LES VILLES QUI CONSOMMENT PLUS DE BOISSONS"
   ]
  },
  {
   "cell_type": "code",
   "execution_count": 38,
   "id": "8145b222-6d07-46dd-98ac-4326200c44bf",
   "metadata": {},
   "outputs": [
    {
     "name": "stdout",
     "output_type": "stream",
     "text": [
      "<class 'pandas.core.frame.DataFrame'>\n",
      "Index: 2640 entries, 0 to 2666\n",
      "Data columns (total 8 columns):\n",
      " #   Column      Non-Null Count  Dtype         \n",
      "---  ------      --------------  -----         \n",
      " 0   receiptId   2640 non-null   object        \n",
      " 1   date        267 non-null    datetime64[ns]\n",
      " 2   itemName    2640 non-null   object        \n",
      " 3   quantity    2640 non-null   int64         \n",
      " 4   unit_price  2640 non-null   float64       \n",
      " 5   postalCode  2640 non-null   object        \n",
      " 6   storeId     2640 non-null   object        \n",
      " 7   city        2547 non-null   object        \n",
      "dtypes: datetime64[ns](1), float64(1), int64(1), object(5)\n",
      "memory usage: 185.6+ KB\n"
     ]
    }
   ],
   "source": [
    "# Vérification des valeurs manquantes sur chaque colonne\n",
    "data_complete.info()"
   ]
  },
  {
   "cell_type": "markdown",
   "id": "14c383da-f679-4357-9ff4-6a4d4ea92a10",
   "metadata": {},
   "source": [
    "#### On remarque qu'une colonne essentielle à cette analyse qui est <font color=\"red\">'city'<font color=\"black\"> comporte des <font color=\"red\">valeurs manquantes<font color=\"black\">. Cette colonne nous donne la possibilité d'<font color=\"red\">avoir les villes dans notre analyse<font color=\"black\">."
   ]
  },
  {
   "cell_type": "code",
   "execution_count": 41,
   "id": "2b68a5ff-b84b-4758-9c34-a64eb13b9de1",
   "metadata": {},
   "outputs": [
    {
     "data": {
      "text/plain": [
       "np.int64(93)"
      ]
     },
     "execution_count": 41,
     "metadata": {},
     "output_type": "execute_result"
    }
   ],
   "source": [
    "# Voir le nombre de valeurs manquantes\n",
    "data_complete['city'].isna().sum()"
   ]
  },
  {
   "cell_type": "markdown",
   "id": "7fce9478-52a4-4e40-90a5-aff4ac7a6a47",
   "metadata": {},
   "source": [
    "#### Puisque notre colonne <font color=\"red\">'city'<font color=\"black\"> comporte <font color=\"red\">93 valeurs manquantes<font color=\"black\"> on fixera notre analyse sur <font color=\"red\">les valeurs présentes<font color=\"black\"> dans la colonne."
   ]
  },
  {
   "cell_type": "code",
   "execution_count": 48,
   "id": "5a9c8912-3e44-4bd1-a0e7-97ca79c63c49",
   "metadata": {},
   "outputs": [
    {
     "data": {
      "text/html": [
       "<div>\n",
       "<style scoped>\n",
       "    .dataframe tbody tr th:only-of-type {\n",
       "        vertical-align: middle;\n",
       "    }\n",
       "\n",
       "    .dataframe tbody tr th {\n",
       "        vertical-align: top;\n",
       "    }\n",
       "\n",
       "    .dataframe thead th {\n",
       "        text-align: right;\n",
       "    }\n",
       "</style>\n",
       "<table border=\"1\" class=\"dataframe\">\n",
       "  <thead>\n",
       "    <tr style=\"text-align: right;\">\n",
       "      <th></th>\n",
       "      <th>receiptId</th>\n",
       "      <th>date</th>\n",
       "      <th>itemName</th>\n",
       "      <th>quantity</th>\n",
       "      <th>unit_price</th>\n",
       "      <th>postalCode</th>\n",
       "      <th>storeId</th>\n",
       "      <th>city</th>\n",
       "    </tr>\n",
       "  </thead>\n",
       "  <tbody>\n",
       "    <tr>\n",
       "      <th>0</th>\n",
       "      <td>486aa07e-4391-4912-8d08-f38edbfdd0e2</td>\n",
       "      <td>NaT</td>\n",
       "      <td>orangina</td>\n",
       "      <td>1</td>\n",
       "      <td>3.9</td>\n",
       "      <td>37500</td>\n",
       "      <td>2e4fb6fa-bcd5-41f1-b1d9-fada8b680f45</td>\n",
       "      <td>ANCHE</td>\n",
       "    </tr>\n",
       "    <tr>\n",
       "      <th>1</th>\n",
       "      <td>486aa07e-4391-4912-8d08-f38edbfdd0e2</td>\n",
       "      <td>NaT</td>\n",
       "      <td>orangina</td>\n",
       "      <td>1</td>\n",
       "      <td>3.9</td>\n",
       "      <td>37500</td>\n",
       "      <td>2e4fb6fa-bcd5-41f1-b1d9-fada8b680f45</td>\n",
       "      <td>CANDES ST MARTIN</td>\n",
       "    </tr>\n",
       "    <tr>\n",
       "      <th>2</th>\n",
       "      <td>486aa07e-4391-4912-8d08-f38edbfdd0e2</td>\n",
       "      <td>NaT</td>\n",
       "      <td>orangina</td>\n",
       "      <td>1</td>\n",
       "      <td>3.9</td>\n",
       "      <td>37500</td>\n",
       "      <td>2e4fb6fa-bcd5-41f1-b1d9-fada8b680f45</td>\n",
       "      <td>CHINON</td>\n",
       "    </tr>\n",
       "    <tr>\n",
       "      <th>3</th>\n",
       "      <td>486aa07e-4391-4912-8d08-f38edbfdd0e2</td>\n",
       "      <td>NaT</td>\n",
       "      <td>orangina</td>\n",
       "      <td>1</td>\n",
       "      <td>3.9</td>\n",
       "      <td>37500</td>\n",
       "      <td>2e4fb6fa-bcd5-41f1-b1d9-fada8b680f45</td>\n",
       "      <td>CINAIS</td>\n",
       "    </tr>\n",
       "    <tr>\n",
       "      <th>4</th>\n",
       "      <td>486aa07e-4391-4912-8d08-f38edbfdd0e2</td>\n",
       "      <td>NaT</td>\n",
       "      <td>orangina</td>\n",
       "      <td>1</td>\n",
       "      <td>3.9</td>\n",
       "      <td>37500</td>\n",
       "      <td>2e4fb6fa-bcd5-41f1-b1d9-fada8b680f45</td>\n",
       "      <td>COUZIERS</td>\n",
       "    </tr>\n",
       "  </tbody>\n",
       "</table>\n",
       "</div>"
      ],
      "text/plain": [
       "                              receiptId date  itemName  quantity  unit_price  \\\n",
       "0  486aa07e-4391-4912-8d08-f38edbfdd0e2  NaT  orangina         1         3.9   \n",
       "1  486aa07e-4391-4912-8d08-f38edbfdd0e2  NaT  orangina         1         3.9   \n",
       "2  486aa07e-4391-4912-8d08-f38edbfdd0e2  NaT  orangina         1         3.9   \n",
       "3  486aa07e-4391-4912-8d08-f38edbfdd0e2  NaT  orangina         1         3.9   \n",
       "4  486aa07e-4391-4912-8d08-f38edbfdd0e2  NaT  orangina         1         3.9   \n",
       "\n",
       "  postalCode                               storeId              city  \n",
       "0      37500  2e4fb6fa-bcd5-41f1-b1d9-fada8b680f45             ANCHE  \n",
       "1      37500  2e4fb6fa-bcd5-41f1-b1d9-fada8b680f45  CANDES ST MARTIN  \n",
       "2      37500  2e4fb6fa-bcd5-41f1-b1d9-fada8b680f45            CHINON  \n",
       "3      37500  2e4fb6fa-bcd5-41f1-b1d9-fada8b680f45            CINAIS  \n",
       "4      37500  2e4fb6fa-bcd5-41f1-b1d9-fada8b680f45          COUZIERS  "
      ]
     },
     "execution_count": 48,
     "metadata": {},
     "output_type": "execute_result"
    }
   ],
   "source": [
    "# Mise à jour de data_complete juste avec les valeurs présentes de la colonne 'city'\n",
    "data_complete=data_complete[data_complete['city'].notna()]\n",
    "\n",
    "# Afficher les 5 premières lignes \n",
    "data_complete.head()"
   ]
  },
  {
   "cell_type": "code",
   "execution_count": 51,
   "id": "0c336b07-41d2-41ed-a541-ea05100e87ef",
   "metadata": {},
   "outputs": [
    {
     "data": {
      "text/plain": [
       "np.int64(0)"
      ]
     },
     "execution_count": 51,
     "metadata": {},
     "output_type": "execute_result"
    }
   ],
   "source": [
    "# Vérifions à nouveau le nombres des valeurs manquantes de la colonne 'city'\n",
    "data_complete['city'].isna().sum()"
   ]
  },
  {
   "cell_type": "markdown",
   "id": "692d9f65-3d0a-4151-bce1-a23068ffce95",
   "metadata": {},
   "source": [
    "#### Nous n'avons <font color=\"red\">plus de valeurs manquantes<font color=\"black\"> à colonne <font color=\"red\">'city'<font color=\"red\">."
   ]
  },
  {
   "cell_type": "code",
   "execution_count": 52,
   "id": "6a0822d7-bf5e-4234-8793-8d15a2970261",
   "metadata": {},
   "outputs": [
    {
     "data": {
      "application/vnd.plotly.v1+json": {
       "config": {
        "plotlyServerURL": "https://plot.ly"
       },
       "data": [
        {
         "hovertemplate": "Boisson=orangina<br>Ville=%{x}<br>Quantité=%{text}<extra></extra>",
         "legendgroup": "orangina",
         "marker": {
          "color": "#636efa",
          "pattern": {
           "shape": ""
          }
         },
         "name": "orangina",
         "orientation": "v",
         "showlegend": true,
         "text": {
          "bdata": "AAAAAAAAKkAAAAAAAAAQQAAAAAAAAPA/AAAAAAAAAEAAAAAAAAAqQAAAAAAAACpAAAAAAAAAEEAAAAAAAAAQQAAAAAAAACpAAAAAAAAAKkA=",
          "dtype": "f8"
         },
         "textposition": "auto",
         "type": "bar",
         "x": [
          "BEAULIEU SUR OUDON",
          "BORDEAUX",
          "CHAMONIX MONT BLANC",
          "LA ROCHELLE",
          "LOIRON",
          "MONTJEAN",
          "NICE",
          "PARIS",
          "RUILLE LE GRAVELAIS",
          "ST CYR LE GRAVELAIS"
         ],
         "xaxis": "x",
         "y": {
          "bdata": "DQQBAg0NBAQNDQ==",
          "dtype": "i1"
         },
         "yaxis": "y"
        },
        {
         "hovertemplate": "Boisson=coca-cola<br>Ville=%{x}<br>Quantité=%{text}<extra></extra>",
         "legendgroup": "coca-cola",
         "marker": {
          "color": "#EF553B",
          "pattern": {
           "shape": ""
          }
         },
         "name": "coca-cola",
         "orientation": "v",
         "showlegend": true,
         "text": {
          "bdata": "AAAAAAAAJEAAAAAAAAA2QAAAAAAAABhAAAAAAAAAM0AAAAAAAAA3QAAAAAAAAABAAAAAAAAAJkAAAAAAAAAcQAAAAAAAACZA",
          "dtype": "f8"
         },
         "textposition": "auto",
         "type": "bar",
         "x": [
          "BORDEAUX",
          "CHAMONIX MONT BLANC",
          "LA ROCHELLE",
          "NICE",
          "PARIS",
          "ST ETIENNE",
          "ST SIGISMOND",
          "STRASBOURG",
          "THYEZ"
         ],
         "xaxis": "x",
         "y": {
          "bdata": "ChYGExcCCwcL",
          "dtype": "i1"
         },
         "yaxis": "y"
        },
        {
         "hovertemplate": "Boisson=heineken<br>Ville=%{x}<br>Quantité=%{text}<extra></extra>",
         "legendgroup": "heineken",
         "marker": {
          "color": "#00cc96",
          "pattern": {
           "shape": ""
          }
         },
         "name": "heineken",
         "orientation": "v",
         "showlegend": true,
         "text": {
          "bdata": "AAAAAAAA8D8AAAAAAABAQAAAAAAAAChA",
          "dtype": "f8"
         },
         "textposition": "auto",
         "type": "bar",
         "x": [
          "BORDEAUX",
          "LORIENT",
          "ST ETIENNE"
         ],
         "xaxis": "x",
         "y": {
          "bdata": "ASAM",
          "dtype": "i1"
         },
         "yaxis": "y"
        },
        {
         "hovertemplate": "Boisson=sprite<br>Ville=%{x}<br>Quantité=%{text}<extra></extra>",
         "legendgroup": "sprite",
         "marker": {
          "color": "#ab63fa",
          "pattern": {
           "shape": ""
          }
         },
         "name": "sprite",
         "orientation": "v",
         "showlegend": true,
         "text": {
          "bdata": "AAAAAAAACEAAAAAAAAAIQAAAAAAAAPA/AAAAAAAAAEAAAAAAAADwPw==",
          "dtype": "f8"
         },
         "textposition": "auto",
         "type": "bar",
         "x": [
          "BORDEAUX",
          "PARIS",
          "ST SIGISMOND",
          "STRASBOURG",
          "THYEZ"
         ],
         "xaxis": "x",
         "y": {
          "bdata": "AwMBAgE=",
          "dtype": "i1"
         },
         "yaxis": "y"
        },
        {
         "hovertemplate": "Boisson=badoit<br>Ville=%{x}<br>Quantité=%{text}<extra></extra>",
         "legendgroup": "badoit",
         "marker": {
          "color": "#FFA15A",
          "pattern": {
           "shape": ""
          }
         },
         "name": "badoit",
         "orientation": "v",
         "showlegend": true,
         "text": {
          "bdata": "AAAAAAAAFEAAAAAAAAAAQA==",
          "dtype": "f8"
         },
         "textposition": "auto",
         "type": "bar",
         "x": [
          "LA ROCHELLE",
          "PARIS"
         ],
         "xaxis": "x",
         "y": {
          "bdata": "BQI=",
          "dtype": "i1"
         },
         "yaxis": "y"
        },
        {
         "hovertemplate": "Boisson=cristaline<br>Ville=%{x}<br>Quantité=%{text}<extra></extra>",
         "legendgroup": "cristaline",
         "marker": {
          "color": "#19d3f3",
          "pattern": {
           "shape": ""
          }
         },
         "name": "cristaline",
         "orientation": "v",
         "showlegend": true,
         "text": {
          "bdata": "AAAAAAAAAEAAAAAAAAAgQA==",
          "dtype": "f8"
         },
         "textposition": "auto",
         "type": "bar",
         "x": [
          "NICE",
          "STRASBOURG"
         ],
         "xaxis": "x",
         "y": {
          "bdata": "Agg=",
          "dtype": "i1"
         },
         "yaxis": "y"
        },
        {
         "hovertemplate": "Boisson=oasis tropical<br>Ville=%{x}<br>Quantité=%{text}<extra></extra>",
         "legendgroup": "oasis tropical",
         "marker": {
          "color": "#FF6692",
          "pattern": {
           "shape": ""
          }
         },
         "name": "oasis tropical",
         "orientation": "v",
         "showlegend": true,
         "text": {
          "bdata": "AAAAAAAAAEAAAAAAAAAIQA==",
          "dtype": "f8"
         },
         "textposition": "auto",
         "type": "bar",
         "x": [
          "NICE",
          "PARIS"
         ],
         "xaxis": "x",
         "y": {
          "bdata": "AgM=",
          "dtype": "i1"
         },
         "yaxis": "y"
        },
        {
         "hovertemplate": "Boisson=volvic<br>Ville=%{x}<br>Quantité=%{text}<extra></extra>",
         "legendgroup": "volvic",
         "marker": {
          "color": "#B6E880",
          "pattern": {
           "shape": ""
          }
         },
         "name": "volvic",
         "orientation": "v",
         "showlegend": true,
         "text": {
          "bdata": "AAAAAAAA8D8=",
          "dtype": "f8"
         },
         "textposition": "auto",
         "type": "bar",
         "x": [
          "NICE"
         ],
         "xaxis": "x",
         "y": {
          "bdata": "AQ==",
          "dtype": "i1"
         },
         "yaxis": "y"
        },
        {
         "hovertemplate": "Boisson=redbull<br>Ville=%{x}<br>Quantité=%{text}<extra></extra>",
         "legendgroup": "redbull",
         "marker": {
          "color": "#FF97FF",
          "pattern": {
           "shape": ""
          }
         },
         "name": "redbull",
         "orientation": "v",
         "showlegend": true,
         "text": {
          "bdata": "AAAAAAAA8D8=",
          "dtype": "f8"
         },
         "textposition": "auto",
         "type": "bar",
         "x": [
          "PARIS"
         ],
         "xaxis": "x",
         "y": {
          "bdata": "AQ==",
          "dtype": "i1"
         },
         "yaxis": "y"
        }
       ],
       "layout": {
        "barmode": "stack",
        "height": 600,
        "hovermode": "x unified",
        "legend": {
         "title": {
          "text": "Boisson"
         },
         "tracegroupgap": 0
        },
        "template": {
         "data": {
          "bar": [
           {
            "error_x": {
             "color": "#2a3f5f"
            },
            "error_y": {
             "color": "#2a3f5f"
            },
            "marker": {
             "line": {
              "color": "#E5ECF6",
              "width": 0.5
             },
             "pattern": {
              "fillmode": "overlay",
              "size": 10,
              "solidity": 0.2
             }
            },
            "type": "bar"
           }
          ],
          "barpolar": [
           {
            "marker": {
             "line": {
              "color": "#E5ECF6",
              "width": 0.5
             },
             "pattern": {
              "fillmode": "overlay",
              "size": 10,
              "solidity": 0.2
             }
            },
            "type": "barpolar"
           }
          ],
          "carpet": [
           {
            "aaxis": {
             "endlinecolor": "#2a3f5f",
             "gridcolor": "white",
             "linecolor": "white",
             "minorgridcolor": "white",
             "startlinecolor": "#2a3f5f"
            },
            "baxis": {
             "endlinecolor": "#2a3f5f",
             "gridcolor": "white",
             "linecolor": "white",
             "minorgridcolor": "white",
             "startlinecolor": "#2a3f5f"
            },
            "type": "carpet"
           }
          ],
          "choropleth": [
           {
            "colorbar": {
             "outlinewidth": 0,
             "ticks": ""
            },
            "type": "choropleth"
           }
          ],
          "contour": [
           {
            "colorbar": {
             "outlinewidth": 0,
             "ticks": ""
            },
            "colorscale": [
             [
              0,
              "#0d0887"
             ],
             [
              0.1111111111111111,
              "#46039f"
             ],
             [
              0.2222222222222222,
              "#7201a8"
             ],
             [
              0.3333333333333333,
              "#9c179e"
             ],
             [
              0.4444444444444444,
              "#bd3786"
             ],
             [
              0.5555555555555556,
              "#d8576b"
             ],
             [
              0.6666666666666666,
              "#ed7953"
             ],
             [
              0.7777777777777778,
              "#fb9f3a"
             ],
             [
              0.8888888888888888,
              "#fdca26"
             ],
             [
              1,
              "#f0f921"
             ]
            ],
            "type": "contour"
           }
          ],
          "contourcarpet": [
           {
            "colorbar": {
             "outlinewidth": 0,
             "ticks": ""
            },
            "type": "contourcarpet"
           }
          ],
          "heatmap": [
           {
            "colorbar": {
             "outlinewidth": 0,
             "ticks": ""
            },
            "colorscale": [
             [
              0,
              "#0d0887"
             ],
             [
              0.1111111111111111,
              "#46039f"
             ],
             [
              0.2222222222222222,
              "#7201a8"
             ],
             [
              0.3333333333333333,
              "#9c179e"
             ],
             [
              0.4444444444444444,
              "#bd3786"
             ],
             [
              0.5555555555555556,
              "#d8576b"
             ],
             [
              0.6666666666666666,
              "#ed7953"
             ],
             [
              0.7777777777777778,
              "#fb9f3a"
             ],
             [
              0.8888888888888888,
              "#fdca26"
             ],
             [
              1,
              "#f0f921"
             ]
            ],
            "type": "heatmap"
           }
          ],
          "histogram": [
           {
            "marker": {
             "pattern": {
              "fillmode": "overlay",
              "size": 10,
              "solidity": 0.2
             }
            },
            "type": "histogram"
           }
          ],
          "histogram2d": [
           {
            "colorbar": {
             "outlinewidth": 0,
             "ticks": ""
            },
            "colorscale": [
             [
              0,
              "#0d0887"
             ],
             [
              0.1111111111111111,
              "#46039f"
             ],
             [
              0.2222222222222222,
              "#7201a8"
             ],
             [
              0.3333333333333333,
              "#9c179e"
             ],
             [
              0.4444444444444444,
              "#bd3786"
             ],
             [
              0.5555555555555556,
              "#d8576b"
             ],
             [
              0.6666666666666666,
              "#ed7953"
             ],
             [
              0.7777777777777778,
              "#fb9f3a"
             ],
             [
              0.8888888888888888,
              "#fdca26"
             ],
             [
              1,
              "#f0f921"
             ]
            ],
            "type": "histogram2d"
           }
          ],
          "histogram2dcontour": [
           {
            "colorbar": {
             "outlinewidth": 0,
             "ticks": ""
            },
            "colorscale": [
             [
              0,
              "#0d0887"
             ],
             [
              0.1111111111111111,
              "#46039f"
             ],
             [
              0.2222222222222222,
              "#7201a8"
             ],
             [
              0.3333333333333333,
              "#9c179e"
             ],
             [
              0.4444444444444444,
              "#bd3786"
             ],
             [
              0.5555555555555556,
              "#d8576b"
             ],
             [
              0.6666666666666666,
              "#ed7953"
             ],
             [
              0.7777777777777778,
              "#fb9f3a"
             ],
             [
              0.8888888888888888,
              "#fdca26"
             ],
             [
              1,
              "#f0f921"
             ]
            ],
            "type": "histogram2dcontour"
           }
          ],
          "mesh3d": [
           {
            "colorbar": {
             "outlinewidth": 0,
             "ticks": ""
            },
            "type": "mesh3d"
           }
          ],
          "parcoords": [
           {
            "line": {
             "colorbar": {
              "outlinewidth": 0,
              "ticks": ""
             }
            },
            "type": "parcoords"
           }
          ],
          "pie": [
           {
            "automargin": true,
            "type": "pie"
           }
          ],
          "scatter": [
           {
            "fillpattern": {
             "fillmode": "overlay",
             "size": 10,
             "solidity": 0.2
            },
            "type": "scatter"
           }
          ],
          "scatter3d": [
           {
            "line": {
             "colorbar": {
              "outlinewidth": 0,
              "ticks": ""
             }
            },
            "marker": {
             "colorbar": {
              "outlinewidth": 0,
              "ticks": ""
             }
            },
            "type": "scatter3d"
           }
          ],
          "scattercarpet": [
           {
            "marker": {
             "colorbar": {
              "outlinewidth": 0,
              "ticks": ""
             }
            },
            "type": "scattercarpet"
           }
          ],
          "scattergeo": [
           {
            "marker": {
             "colorbar": {
              "outlinewidth": 0,
              "ticks": ""
             }
            },
            "type": "scattergeo"
           }
          ],
          "scattergl": [
           {
            "marker": {
             "colorbar": {
              "outlinewidth": 0,
              "ticks": ""
             }
            },
            "type": "scattergl"
           }
          ],
          "scattermap": [
           {
            "marker": {
             "colorbar": {
              "outlinewidth": 0,
              "ticks": ""
             }
            },
            "type": "scattermap"
           }
          ],
          "scattermapbox": [
           {
            "marker": {
             "colorbar": {
              "outlinewidth": 0,
              "ticks": ""
             }
            },
            "type": "scattermapbox"
           }
          ],
          "scatterpolar": [
           {
            "marker": {
             "colorbar": {
              "outlinewidth": 0,
              "ticks": ""
             }
            },
            "type": "scatterpolar"
           }
          ],
          "scatterpolargl": [
           {
            "marker": {
             "colorbar": {
              "outlinewidth": 0,
              "ticks": ""
             }
            },
            "type": "scatterpolargl"
           }
          ],
          "scatterternary": [
           {
            "marker": {
             "colorbar": {
              "outlinewidth": 0,
              "ticks": ""
             }
            },
            "type": "scatterternary"
           }
          ],
          "surface": [
           {
            "colorbar": {
             "outlinewidth": 0,
             "ticks": ""
            },
            "colorscale": [
             [
              0,
              "#0d0887"
             ],
             [
              0.1111111111111111,
              "#46039f"
             ],
             [
              0.2222222222222222,
              "#7201a8"
             ],
             [
              0.3333333333333333,
              "#9c179e"
             ],
             [
              0.4444444444444444,
              "#bd3786"
             ],
             [
              0.5555555555555556,
              "#d8576b"
             ],
             [
              0.6666666666666666,
              "#ed7953"
             ],
             [
              0.7777777777777778,
              "#fb9f3a"
             ],
             [
              0.8888888888888888,
              "#fdca26"
             ],
             [
              1,
              "#f0f921"
             ]
            ],
            "type": "surface"
           }
          ],
          "table": [
           {
            "cells": {
             "fill": {
              "color": "#EBF0F8"
             },
             "line": {
              "color": "white"
             }
            },
            "header": {
             "fill": {
              "color": "#C8D4E3"
             },
             "line": {
              "color": "white"
             }
            },
            "type": "table"
           }
          ]
         },
         "layout": {
          "annotationdefaults": {
           "arrowcolor": "#2a3f5f",
           "arrowhead": 0,
           "arrowwidth": 1
          },
          "autotypenumbers": "strict",
          "coloraxis": {
           "colorbar": {
            "outlinewidth": 0,
            "ticks": ""
           }
          },
          "colorscale": {
           "diverging": [
            [
             0,
             "#8e0152"
            ],
            [
             0.1,
             "#c51b7d"
            ],
            [
             0.2,
             "#de77ae"
            ],
            [
             0.3,
             "#f1b6da"
            ],
            [
             0.4,
             "#fde0ef"
            ],
            [
             0.5,
             "#f7f7f7"
            ],
            [
             0.6,
             "#e6f5d0"
            ],
            [
             0.7,
             "#b8e186"
            ],
            [
             0.8,
             "#7fbc41"
            ],
            [
             0.9,
             "#4d9221"
            ],
            [
             1,
             "#276419"
            ]
           ],
           "sequential": [
            [
             0,
             "#0d0887"
            ],
            [
             0.1111111111111111,
             "#46039f"
            ],
            [
             0.2222222222222222,
             "#7201a8"
            ],
            [
             0.3333333333333333,
             "#9c179e"
            ],
            [
             0.4444444444444444,
             "#bd3786"
            ],
            [
             0.5555555555555556,
             "#d8576b"
            ],
            [
             0.6666666666666666,
             "#ed7953"
            ],
            [
             0.7777777777777778,
             "#fb9f3a"
            ],
            [
             0.8888888888888888,
             "#fdca26"
            ],
            [
             1,
             "#f0f921"
            ]
           ],
           "sequentialminus": [
            [
             0,
             "#0d0887"
            ],
            [
             0.1111111111111111,
             "#46039f"
            ],
            [
             0.2222222222222222,
             "#7201a8"
            ],
            [
             0.3333333333333333,
             "#9c179e"
            ],
            [
             0.4444444444444444,
             "#bd3786"
            ],
            [
             0.5555555555555556,
             "#d8576b"
            ],
            [
             0.6666666666666666,
             "#ed7953"
            ],
            [
             0.7777777777777778,
             "#fb9f3a"
            ],
            [
             0.8888888888888888,
             "#fdca26"
            ],
            [
             1,
             "#f0f921"
            ]
           ]
          },
          "colorway": [
           "#636efa",
           "#EF553B",
           "#00cc96",
           "#ab63fa",
           "#FFA15A",
           "#19d3f3",
           "#FF6692",
           "#B6E880",
           "#FF97FF",
           "#FECB52"
          ],
          "font": {
           "color": "#2a3f5f"
          },
          "geo": {
           "bgcolor": "white",
           "lakecolor": "white",
           "landcolor": "#E5ECF6",
           "showlakes": true,
           "showland": true,
           "subunitcolor": "white"
          },
          "hoverlabel": {
           "align": "left"
          },
          "hovermode": "closest",
          "mapbox": {
           "style": "light"
          },
          "paper_bgcolor": "white",
          "plot_bgcolor": "#E5ECF6",
          "polar": {
           "angularaxis": {
            "gridcolor": "white",
            "linecolor": "white",
            "ticks": ""
           },
           "bgcolor": "#E5ECF6",
           "radialaxis": {
            "gridcolor": "white",
            "linecolor": "white",
            "ticks": ""
           }
          },
          "scene": {
           "xaxis": {
            "backgroundcolor": "#E5ECF6",
            "gridcolor": "white",
            "gridwidth": 2,
            "linecolor": "white",
            "showbackground": true,
            "ticks": "",
            "zerolinecolor": "white"
           },
           "yaxis": {
            "backgroundcolor": "#E5ECF6",
            "gridcolor": "white",
            "gridwidth": 2,
            "linecolor": "white",
            "showbackground": true,
            "ticks": "",
            "zerolinecolor": "white"
           },
           "zaxis": {
            "backgroundcolor": "#E5ECF6",
            "gridcolor": "white",
            "gridwidth": 2,
            "linecolor": "white",
            "showbackground": true,
            "ticks": "",
            "zerolinecolor": "white"
           }
          },
          "shapedefaults": {
           "line": {
            "color": "#2a3f5f"
           }
          },
          "ternary": {
           "aaxis": {
            "gridcolor": "white",
            "linecolor": "white",
            "ticks": ""
           },
           "baxis": {
            "gridcolor": "white",
            "linecolor": "white",
            "ticks": ""
           },
           "bgcolor": "#E5ECF6",
           "caxis": {
            "gridcolor": "white",
            "linecolor": "white",
            "ticks": ""
           }
          },
          "title": {
           "x": 0.05
          },
          "xaxis": {
           "automargin": true,
           "gridcolor": "white",
           "linecolor": "white",
           "ticks": "",
           "title": {
            "standoff": 15
           },
           "zerolinecolor": "white",
           "zerolinewidth": 2
          },
          "yaxis": {
           "automargin": true,
           "gridcolor": "white",
           "linecolor": "white",
           "ticks": "",
           "title": {
            "standoff": 15
           },
           "zerolinecolor": "white",
           "zerolinewidth": 2
          }
         }
        },
        "title": {
         "text": "Quantité de boissons vendues par top 15 villes"
        },
        "xaxis": {
         "anchor": "y",
         "domain": [
          0,
          1
         ],
         "tickangle": -45,
         "title": {
          "text": "Ville"
         }
        },
        "yaxis": {
         "anchor": "x",
         "domain": [
          0,
          1
         ],
         "title": {
          "text": "Quantité"
         }
        }
       }
      },
      "image/png": "[encoded data removed]"
     },
     "metadata": {},
     "output_type": "display_data"
    }
   ],
   "source": [
    "# Calculer la quantité totale vendue par ville\n",
    "total_par_ville = data_complete.groupby('city')['quantity'].sum()\n",
    "\n",
    "# Sélectionner les 15 villes avec le plus de ventes\n",
    "top_15_villes = total_par_ville.sort_values(ascending=False).head(15).index\n",
    "\n",
    "# Filtrer les données pour ne garder que ces villes\n",
    "filtered = data_complete[data_complete['city'].isin(top_15_villes)]\n",
    "\n",
    "# Regrouper par ville et boisson\n",
    "grouped = filtered.groupby(['city', 'itemName'])['quantity'].sum().reset_index()\n",
    "\n",
    "# Créer un graphique en barres empilées interactif \n",
    "fig = px.bar(\n",
    "    grouped,\n",
    "    x='city',\n",
    "    y='quantity',\n",
    "    color='itemName',\n",
    "    title='Quantité de boissons vendues par top 15 villes',\n",
    "    labels={'quantity': 'Quantité', 'city': 'Ville', 'itemName': 'Boisson'},\n",
    "    height=600,\n",
    "    text='quantity' \n",
    ")\n",
    "\n",
    "fig.update_layout(\n",
    "    barmode='stack',\n",
    "    xaxis_tickangle=-45,\n",
    "    legend_title_text='Boisson',\n",
    "    hovermode='x unified' \n",
    ")\n",
    "\n",
    "fig.show()"
   ]
  },
  {
   "cell_type": "markdown",
   "id": "4162d46a-a483-4264-b050-6b67f501a6c1",
   "metadata": {},
   "source": [
    "#### <font color=\"red\"> DEUXIEME INFORMATION<font color=\"black\">: selon nos données les villes qui consomment le plus de boissons en France sont:<font color=\"red\"> PARIS, LORIENT, NICE, CHAMONIX MONT BLANC ET BORDEAUX."
   ]
  },
  {
   "cell_type": "markdown",
   "id": "8e2b9886-9af1-4c21-8d32-c8e5451552d1",
   "metadata": {},
   "source": [
    "## CONCLUSION"
   ]
  },
  {
   "cell_type": "markdown",
   "id": "a421593d-fd7a-4d46-9427-6165c2084174",
   "metadata": {},
   "source": [
    "Nous avons pu remarquer dans la rédaction de ce sujet qu'il nous fallait d'abord mieux s'informer sur nos différents tables. Nos différentes tables nous ont permis de centraliser le sujet, notamment en réunissant les informations selon les besoins.\n",
    "\n",
    "Connaissant maintenant le besoin, nous avons nommé une TABLE PIVOT celle qui nous a permis de relier correctement les informations aux différentes tables et de bénéficier sur une table principale par le moyen des jointures, des informations essentielles à notre analyse. Pour aller mieux à la cible de notre analyse il nous a fallu transformer, nettoyer nos données et encore trier des variables qui vont dans le sens de notre analyse.\n",
    "\n",
    "S'informer sur les enjeux de l'analyse, nous a permis de comprendre dans quelles directions nous allions, et prendre les meilleurs décisions. Ayant par exemple énormément d'informations au niveau des boissons, aller chercher les informations nous aide à gagner en temps et d'être rassurer sur la véracité de nos analyses par comparaison de ce que nous trouvons. \n",
    "\n",
    "Les visualisations graphiques nous ont permis de nous fixer sur des insights qui, feront peut-être l'objet des décisions adapter aux potentiels concernés par cette analyse. Ces insights nous ont éclairés et nous donnent dès à présent, les perpectives d'exploration d'autres informations, sur la base de nos données."
   ]
  },
  {
   "cell_type": "code",
   "execution_count": null,
   "id": "df6f78a8-2c84-46e6-aa7a-49e6f0735eb8",
   "metadata": {},
   "outputs": [],
   "source": []
  }
 ],
 "metadata": {
  "kernelspec": {
   "display_name": "Python 3 (ipykernel)",
   "language": "python",
   "name": "python3"
  },
  "language_info": {
   "codemirror_mode": {
    "name": "ipython",
    "version": 3
   },
   "file_extension": ".py",
   "mimetype": "text/x-python",
   "name": "python",
   "nbconvert_exporter": "python",
   "pygments_lexer": "ipython3",
   "version": "3.10.12"
  }
 },
 "nbformat": 4,
 "nbformat_minor": 5
}
